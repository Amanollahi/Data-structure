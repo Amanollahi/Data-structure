{
  "nbformat": 4,
  "nbformat_minor": 0,
  "metadata": {
    "colab": {
      "provenance": [],
      "authorship_tag": "ABX9TyNXPNZgYusQDKgcGjbVB7hS",
      "include_colab_link": true
    },
    "kernelspec": {
      "name": "python3",
      "display_name": "Python 3"
    },
    "language_info": {
      "name": "python"
    }
  },
  "cells": [
    {
      "cell_type": "markdown",
      "metadata": {
        "id": "view-in-github",
        "colab_type": "text"
      },
      "source": [
        "<a href=\"https://colab.research.google.com/github/Amanollahi/Data-structure/blob/main/LeetCode.ipynb\" target=\"_parent\"><img src=\"https://colab.research.google.com/assets/colab-badge.svg\" alt=\"Open In Colab\"/></a>"
      ]
    },
    {
      "cell_type": "code",
      "execution_count": null,
      "metadata": {
        "id": "1QEKVhooQUm3"
      },
      "outputs": [],
      "source": [
        "from collections import defaultdict\n",
        "\n",
        "class TreeNode:\n",
        "    def __init__(self, val=0, left=None, right=None):\n",
        "        self.val = val\n",
        "        self.left = left\n",
        "        self.right = right\n",
        "\n",
        "class Solution:\n",
        "    def findLeaves(self, root: TreeNode) -> list[list[int]]:\n",
        "\n",
        "        leaves = defaultdict(list)\n",
        "\n",
        "        def dfs(node):\n",
        "            if not node:\n",
        "                return -1\n",
        "            left_height = dfs(node.left)\n",
        "            right_height = dfs(node.right)\n",
        "            height = 1 + max(left_height, right_height)\n",
        "            leaves[height].append(node.val)\n",
        "            return height\n",
        "\n",
        "\n",
        "        dfs(root)\n",
        "        return list(leaves.values())\n"
      ]
    },
    {
      "cell_type": "code",
      "source": [
        "# Example Tree\n",
        "root = TreeNode(1)\n",
        "root.left = TreeNode(8)\n",
        "root.right = TreeNode(8)\n",
        "root.left.left = TreeNode(4)\n",
        "root.left.right = TreeNode(5)\n",
        "\n",
        "solution = Solution()\n",
        "print(solution.findLeaves(root))\n",
        "# Output: [[4, 5, 3], [2], [1]]\n"
      ],
      "metadata": {
        "colab": {
          "base_uri": "https://localhost:8080/"
        },
        "id": "bJy83PxeQbf-",
        "outputId": "eb61aa20-25d1-4eab-a053-ff0c7b298918"
      },
      "execution_count": null,
      "outputs": [
        {
          "output_type": "stream",
          "name": "stdout",
          "text": [
            "[[4, 5, 8], [8], [1]]\n"
          ]
        }
      ]
    },
    {
      "cell_type": "code",
      "source": [
        "class TimeMap:\n",
        "\n",
        "    def __init__(self):\n",
        "        self.keyStore = {}  # key : list of [val, timestamp]\n",
        "\n",
        "    def set(self, key: str, value: str, timestamp: int) -> None:\n",
        "        if key not in self.keyStore:\n",
        "            self.keyStore[key] = []\n",
        "        self.keyStore[key].append([value, timestamp])\n",
        "\n",
        "    def get(self, key: str, timestamp: int) -> str:\n",
        "        res, values = \"\", self.keyStore.get(key, [])\n",
        "        l, r = 0, len(values) - 1\n",
        "        while l <= r:\n",
        "            m = (l + r) // 2\n",
        "            if values[m][1] <= timestamp:\n",
        "                res = values[m][0]\n",
        "                l = m + 1\n",
        "            else:\n",
        "                r = m - 1\n",
        "        return res"
      ],
      "metadata": {
        "id": "fYPY6U6LfNlJ"
      },
      "execution_count": null,
      "outputs": []
    },
    {
      "cell_type": "code",
      "source": [
        "timeMap = TimeMap()\n",
        "timeMap.set(\"foo\", \"bar\", 1)\n",
        "print(timeMap.get(\"foo\", 1))  # Output: \"bar\"\n",
        "print(timeMap.get(\"foo\", 3))  # Output: \"bar\"\n",
        "timeMap.set(\"foo\", \"bar2\", 4)\n",
        "print(timeMap.get(\"foo\", 4))  # Output: \"bar2\"\n",
        "print(timeMap.get(\"foo\", 5))  # Output: \"bar2\"\n"
      ],
      "metadata": {
        "colab": {
          "base_uri": "https://localhost:8080/"
        },
        "id": "kt7x5MCJfXdV",
        "outputId": "2ef26983-4a90-4ba6-8f71-4e42f21c3478"
      },
      "execution_count": null,
      "outputs": [
        {
          "output_type": "stream",
          "name": "stdout",
          "text": [
            "bar\n",
            "bar\n",
            "bar2\n",
            "bar2\n"
          ]
        }
      ]
    },
    {
      "cell_type": "code",
      "source": [
        "def lemonadeChange(bills):\n",
        "    five, ten = 0, 0  # To track the number of $5 and $10 bills\n",
        "\n",
        "    for bill in bills:\n",
        "        if bill == 5:\n",
        "            five += 1  # Collect $5 bill\n",
        "        elif bill == 10:\n",
        "            if five == 0:  # No $5 bill for change\n",
        "                return False\n",
        "            five -= 1\n",
        "            ten += 1  # Collect $10 bill\n",
        "        elif bill == 20:\n",
        "            # Prefer to use one $10 and one $5 for change\n",
        "            if ten > 0 and five > 0:\n",
        "                ten -= 1\n",
        "                five -= 1\n",
        "            elif five >= 3:  # Otherwise use three $5 bills\n",
        "                five -= 3\n",
        "            else:  # Not enough bills for change\n",
        "                return False\n",
        "    return True\n",
        "print(lemonadeChange([5, 5, 5, 10, 20]))  # True\n",
        "print(lemonadeChange([5, 5, 10, 10, 20]))  # False\n",
        "print(lemonadeChange([5, 5, 10]))          # True\n",
        "print(lemonadeChange([10, 10]))            # False\n"
      ],
      "metadata": {
        "colab": {
          "base_uri": "https://localhost:8080/"
        },
        "id": "VdhPC_q_mHOB",
        "outputId": "b5fd68e8-d6b0-4918-abca-47f799607c7a"
      },
      "execution_count": null,
      "outputs": [
        {
          "output_type": "stream",
          "name": "stdout",
          "text": [
            "True\n",
            "False\n",
            "True\n",
            "False\n"
          ]
        }
      ]
    },
    {
      "cell_type": "code",
      "source": [
        "class TreeNode:\n",
        "    def __init__(self, val=0, left=None, right=None):\n",
        "        self.val = val\n",
        "        self.left = left\n",
        "        self.right = right\n",
        "\n",
        "class Solution:\n",
        "    def maximumAverageSubtree(self, root: TreeNode) -> float:\n",
        "        self.max_average = float('-inf')  # To keep track of the maximum average\n",
        "\n",
        "        def dfs(node):\n",
        "            # Base case: If the node is None, return sum = 0, count = 0\n",
        "            if not node:\n",
        "                return (0, 0)\n",
        "\n",
        "            # Recursively get the sum and count for the left and right subtrees\n",
        "            left_sum, left_count = dfs(node.left)\n",
        "            right_sum, right_count = dfs(node.right)\n",
        "\n",
        "            # Calculate the sum and count for the current subtree\n",
        "            current_sum = node.val + left_sum + right_sum\n",
        "            current_count = 1 + left_count + right_count\n",
        "\n",
        "            # Calculate the average for the current subtree\n",
        "            current_average = current_sum / current_count\n",
        "\n",
        "            # Update the maximum average\n",
        "            self.max_average = max(self.max_average, current_average)\n",
        "\n",
        "            return (current_sum, current_count)\n",
        "\n",
        "        # Start the DFS traversal from the root\n",
        "        dfs(root)\n",
        "\n",
        "        return self.max_average\n",
        "\n",
        "\n",
        "\n",
        "\n",
        "# Example 1\n",
        "root = TreeNode(5)\n",
        "root.left = TreeNode(6)\n",
        "root.right = TreeNode(1)\n",
        "\n",
        "solution = Solution()\n",
        "print(solution.maximumAverageSubtree(root))  # Output: 6.0\n",
        "\n",
        "# Example 2\n",
        "root = TreeNode(1)\n",
        "root.left = TreeNode(-5)\n",
        "root.right = TreeNode(11)\n",
        "root.left.left = TreeNode(1)\n",
        "root.left.right = TreeNode(2)\n",
        "root.right.left = TreeNode(4)\n",
        "root.right.right = TreeNode(-2)\n",
        "\n",
        "solution = Solution()\n",
        "print(solution.maximumAverageSubtree(root))  # Output: 4.666666666666667\n"
      ],
      "metadata": {
        "id": "NBK8cLSOmXkV"
      },
      "execution_count": null,
      "outputs": []
    },
    {
      "cell_type": "markdown",
      "source": [
        "# 1366 Rank teams by votes"
      ],
      "metadata": {
        "id": "SSPeStAJYwvr"
      }
    },
    {
      "cell_type": "markdown",
      "source": [
        "In a special ranking system, each voter gives a rank from highest to lowest to all teams participating in the competition.\n",
        "\n",
        "The ordering of teams is decided by who received the most position-one votes. If two or more teams tie in the first position, we consider the second position to resolve the conflict, if they tie again, we continue this process until the ties are resolved. If two or more teams are still tied after considering all positions, we rank them alphabetically based on their team letter.\n",
        "\n",
        "You are given an array of strings votes which is the votes of all voters in the ranking systems. Sort all teams according to the ranking system described above.\n",
        "\n",
        "Return a string of all teams sorted by the ranking system.\n",
        "\n",
        "\n",
        "\n",
        "Example 1:\n",
        "\n",
        "Input: votes = [\"ABC\",\"ACB\",\"ABC\",\"ACB\",\"ACB\"]\n",
        "Output: \"ACB\"\n",
        "Explanation:\n",
        "Team A was ranked first place by 5 voters. No other team was voted as first place, so team A is the first team.\n",
        "Team B was ranked second by 2 voters and ranked third by 3 voters.\n",
        "Team C was ranked second by 3 voters and ranked third by 2 voters.\n",
        "As most of the voters ranked C second, team C is the second team, and team B is the third.\n",
        "Example 2:\n",
        "\n",
        "Input: votes = [\"WXYZ\",\"XYZW\"]\n",
        "Output: \"XWYZ\"\n",
        "Explanation:\n",
        "X is the winner due to the tie-breaking rule. X has the same votes as W for the first position, but X has one vote in the second position, while W does not have any votes in the second position.\n",
        "Example 3:\n",
        "\n",
        "Input: votes = [\"ZMNAGUEDSJYLBOPHRQICWFXTVK\"]\n",
        "Output: \"ZMNAGUEDSJYLBOPHRQICWFXTVK\"\n",
        "Explanation: Only one voter, so their votes are used for the ranking.\n",
        "\n",
        "\n",
        "Constraints:\n",
        "\n",
        "1 <= votes.length <= 1000\n",
        "1 <= votes[i].length <= 26\n",
        "votes[i].length == votes[j].length for 0 <= i, j < votes.length.\n",
        "votes[i][j] is an English uppercase letter.\n",
        "All characters of votes[i] are unique.\n",
        "All the characters that occur in votes[0] also occur in votes[j] where 1 <= j < votes.length."
      ],
      "metadata": {
        "id": "UTe26F0KYmC2"
      }
    },
    {
      "cell_type": "code",
      "source": [
        "from collections import defaultdict\n",
        "from typing import List\n",
        "\n",
        "def rankTeams(votes: List[str]) -> str:\n",
        "    print(votes)\n",
        "    # Number of teams\n",
        "    n = len(votes[0])\n",
        "    # Dictionary to store the rankings\n",
        "    dic = defaultdict(lambda: [0] * n)\n",
        "\n",
        "    # Count votes for each team\n",
        "    for vote in votes:\n",
        "        for place, team in enumerate(vote):\n",
        "            #print(place)\n",
        "            #print(team)\n",
        "            dic[team][place] += 1\n",
        "            #print(dic)\n",
        "    print(dic.keys())\n",
        "    # Sort teams based on their rankings and alphabetically as a tie-breaker\n",
        "    return \"\".join(sorted(dic.keys(), key=lambda x: (dic[x], -ord(x)), reverse=True))\n",
        "\n",
        "# Example usage\n",
        "votes1 = [\"ABC\",\"ACB\",\"ABC\",\"ACB\",\"ACB\"]\n",
        "votes2 = [\"WXYZ\",\"XYZW\"]\n",
        "votes3 = [\"ZMNAGUEDSJYLBOPHRQICWFXTVK\"]\n",
        "\n",
        "rankTeams(votes1)\n",
        "#print(rankTeams(votes1))  # Output: \"ACB\"\n",
        "#print(rankTeams(votes2))  # Output: \"XWYZ\"\n",
        "#print(rankTeams(votes3))  # Output: \"ZMNAGUEDSJYLBOPHRQICWFXTVK\"\n"
      ],
      "metadata": {
        "colab": {
          "base_uri": "https://localhost:8080/",
          "height": 0
        },
        "id": "gcSSbkq9R8EP",
        "outputId": "6de3b5d2-96de-455f-e099-3065917050bd"
      },
      "execution_count": 16,
      "outputs": [
        {
          "output_type": "stream",
          "name": "stdout",
          "text": [
            "['ABC', 'ACB', 'ABC', 'ACB', 'ACB']\n",
            "dict_keys(['A', 'B', 'C'])\n"
          ]
        },
        {
          "output_type": "execute_result",
          "data": {
            "text/plain": [
              "'ACB'"
            ],
            "application/vnd.google.colaboratory.intrinsic+json": {
              "type": "string"
            }
          },
          "metadata": {},
          "execution_count": 16
        }
      ]
    },
    {
      "cell_type": "code",
      "source": [
        "from collections import defaultdict\n",
        "from typing import List\n",
        "\n",
        "class Solution:\n",
        "    def rankTeams(self, votes: List[str]) -> str:\n",
        "        n = len(votes[0])  # Number of teams\n",
        "        dic = defaultdict(lambda: [0] * n)  # Dictionary to store rankings\n",
        "\n",
        "        # Count votes for each team\n",
        "        for vote in votes:\n",
        "            for place, team in enumerate(vote):\n",
        "                dic[team][place] += 1\n",
        "\n",
        "        # Sort teams based on rankings and alphabetically as a tiebreaker\n",
        "        return \"\".join(sorted(dic.keys(), key=lambda x: (dic[x], -ord(x)), reverse=True))\n",
        "\n",
        "# Example usage\n",
        "solution = Solution()\n",
        "votes1 = [\"ABC\", \"ACB\", \"ABC\", \"ACB\", \"ACB\"]\n",
        "votes2 = [\"WXYZ\", \"XYZW\"]\n",
        "votes3 = [\"ZMNAGUEDSJYLBOPHRQICWFXTVK\"]\n",
        "\n",
        "print(solution.rankTeams(votes1))  # Output: \"ACB\"\n",
        "print(solution.rankTeams(votes2))  # Output: \"XWYZ\"\n",
        "print(solution.rankTeams(votes3))  # Output: \"ZMNAGUEDSJYLBOPHRQICWFXTVK\"\n"
      ],
      "metadata": {
        "colab": {
          "base_uri": "https://localhost:8080/"
        },
        "id": "8d7CKoH0SeGC",
        "outputId": "fa2f656b-5ca2-4c1a-b4c4-3124338b7d5b"
      },
      "execution_count": 4,
      "outputs": [
        {
          "output_type": "stream",
          "name": "stdout",
          "text": [
            "ACB\n",
            "XWYZ\n",
            "ZMNAGUEDSJYLBOPHRQICWFXTVK\n"
          ]
        }
      ]
    },
    {
      "cell_type": "markdown",
      "source": [
        "# 2034 Stock Price fluctuations"
      ],
      "metadata": {
        "id": "bR6uBD0MZbIE"
      }
    },
    {
      "cell_type": "markdown",
      "source": [
        "You are given a stream of records about a particular stock. Each record contains a timestamp and the corresponding price of the stock at that timestamp.\n",
        "\n",
        "Unfortunately due to the volatile nature of the stock market, the records do not come in order. Even worse, some records may be incorrect. Another record with the same timestamp may appear later in the stream correcting the price of the previous wrong record.\n",
        "\n",
        "Design an algorithm that:\n",
        "\n",
        "Updates the price of the stock at a particular timestamp, correcting the price from any previous records at the timestamp.\n",
        "Finds the latest price of the stock based on the current records. The latest price is the price at the latest timestamp recorded.\n",
        "Finds the maximum price the stock has been based on the current records.\n",
        "Finds the minimum price the stock has been based on the current records.\n",
        "Implement the StockPrice class:\n",
        "\n",
        "StockPrice() Initializes the object with no price records.\n",
        "void update(int timestamp, int price) Updates the price of the stock at the given timestamp.\n",
        "int current() Returns the latest price of the stock.\n",
        "int maximum() Returns the maximum price of the stock.\n",
        "int minimum() Returns the minimum price of the stock.\n",
        "\n",
        "\n",
        "Example 1:\n",
        "\n",
        "Input\n",
        "[\"StockPrice\", \"update\", \"update\", \"current\", \"maximum\", \"update\", \"maximum\", \"update\", \"minimum\"]\n",
        "[[], [1, 10], [2, 5], [], [], [1, 3], [], [4, 2], []]\n",
        "Output\n",
        "[null, null, null, 5, 10, null, 5, null, 2]\n",
        "\n",
        "Explanation\n",
        "StockPrice stockPrice = new StockPrice();\n",
        "stockPrice.update(1, 10); // Timestamps are [1] with corresponding prices [10].\n",
        "stockPrice.update(2, 5);  // Timestamps are [1,2] with corresponding prices [10,5].\n",
        "stockPrice.current();     // return 5, the latest timestamp is 2 with the price being 5.\n",
        "stockPrice.maximum();     // return 10, the maximum price is 10 at timestamp 1.\n",
        "stockPrice.update(1, 3);  // The previous timestamp 1 had the wrong price, so it is updated to 3.\n",
        "                          // Timestamps are [1,2] with corresponding prices [3,5].\n",
        "stockPrice.maximum();     // return 5, the maximum price is 5 after the correction.\n",
        "stockPrice.update(4, 2);  // Timestamps are [1,2,4] with corresponding prices [3,5,2].\n",
        "stockPrice.minimum();     // return 2, the minimum price is 2 at timestamp 4.\n",
        "\n",
        "\n",
        "Constraints:\n",
        "\n",
        "1 <= timestamp, price <= 109\n",
        "At most 105 calls will be made in total to update, current, maximum, and minimum.\n",
        "current, maximum, and minimum will be called only after update has been called at least once."
      ],
      "metadata": {
        "id": "HIa-VJRQZkxB"
      }
    },
    {
      "cell_type": "code",
      "source": [
        "pip install sortedcontainers"
      ],
      "metadata": {
        "colab": {
          "base_uri": "https://localhost:8080/"
        },
        "id": "we0MAwjrZ69b",
        "outputId": "3db8eb74-cc13-4189-df2d-f10180700129"
      },
      "execution_count": 19,
      "outputs": [
        {
          "output_type": "stream",
          "name": "stdout",
          "text": [
            "Collecting sortedcontainers\n",
            "  Downloading sortedcontainers-2.4.0-py2.py3-none-any.whl.metadata (10 kB)\n",
            "Downloading sortedcontainers-2.4.0-py2.py3-none-any.whl (29 kB)\n",
            "Installing collected packages: sortedcontainers\n",
            "Successfully installed sortedcontainers-2.4.0\n"
          ]
        }
      ]
    },
    {
      "cell_type": "code",
      "source": [
        "from sortedcontainers import SortedList\n",
        "from collections import defaultdict\n",
        "\n",
        "class StockPrice:\n",
        "    def __init__(self):\n",
        "        self.prices = {}  # Store {timestamp: price}\n",
        "        self.latest_time = 0  # Track the latest timestamp\n",
        "        self.sorted_prices = SortedList()  # Keep prices sorted for min/max operations\n",
        "\n",
        "    def update(self, timestamp: int, price: int) -> None:\n",
        "        # Update the latest timestamp\n",
        "        self.latest_time = max(self.latest_time, timestamp)\n",
        "\n",
        "        # If the timestamp already exists, remove the old price from sorted_prices\n",
        "        if timestamp in self.prices:\n",
        "            old_price = self.prices[timestamp]\n",
        "            self.sorted_prices.remove(old_price)\n",
        "\n",
        "        # Update the price in the dictionary and add it to sorted_prices\n",
        "        self.prices[timestamp] = price\n",
        "        self.sorted_prices.add(price)\n",
        "\n",
        "    def current(self) -> int:\n",
        "        # Return the price at the latest timestamp\n",
        "        return self.prices[self.latest_time]\n",
        "\n",
        "    def maximum(self) -> int:\n",
        "        # Return the maximum price (last element in sorted_prices)\n",
        "        return self.sorted_prices[-1]\n",
        "\n",
        "    def minimum(self) -> int:\n",
        "        # Return the minimum price (first element in sorted_prices)\n",
        "        return self.sorted_prices[0]\n"
      ],
      "metadata": {
        "id": "TAXE2pzfZjm3"
      },
      "execution_count": 20,
      "outputs": []
    },
    {
      "cell_type": "code",
      "source": [
        "stockPrice = StockPrice()\n",
        "stockPrice.update(1, 10)  # Timestamps are [1] with prices [10]\n",
        "stockPrice.update(2, 5)   # Timestamps are [1, 2] with prices [10, 5]\n",
        "print(stockPrice.current())  # Output: 5\n",
        "print(stockPrice.maximum())  # Output: 10\n",
        "stockPrice.update(1, 3)   # Update timestamp 1 to price 3\n",
        "print(stockPrice.maximum())  # Output: 5\n",
        "stockPrice.update(4, 2)   # Timestamps are [1, 2, 4] with prices [3, 5, 2]\n",
        "print(stockPrice.minimum())  # Output: 2\n"
      ],
      "metadata": {
        "colab": {
          "base_uri": "https://localhost:8080/"
        },
        "id": "20cmXzvwaGqB",
        "outputId": "88c40717-974b-4467-dc19-315defebebe8"
      },
      "execution_count": 21,
      "outputs": [
        {
          "output_type": "stream",
          "name": "stdout",
          "text": [
            "5\n",
            "10\n",
            "5\n",
            "2\n"
          ]
        }
      ]
    },
    {
      "cell_type": "code",
      "source": [
        "from heapq import heappush, heappop\n",
        "\n",
        "class StockPrice:\n",
        "\n",
        "    def __init__(self):\n",
        "        self.mp = {}\n",
        "        self.maxp = [] # max-heap\n",
        "        self.minp = [] # min-heap\n",
        "        self.latest = 0 # latest timestamp\n",
        "\n",
        "    def update(self, timestamp: int, price: int) -> None:\n",
        "        self.mp[timestamp] = price\n",
        "        if self.latest <= timestamp: self.latest = timestamp\n",
        "        heappush(self.maxp, (-price, timestamp))\n",
        "        heappush(self.minp, (price, timestamp))\n",
        "\n",
        "    def current(self) -> int:\n",
        "        return self.mp[self.latest]\n",
        "\n",
        "    def maximum(self) -> int:\n",
        "        while self.mp[self.maxp[0][1]] != -self.maxp[0][0]: heappop(self.maxp)\n",
        "        return -self.maxp[0][0]\n",
        "\n",
        "    def minimum(self) -> int:\n",
        "        while self.mp[self.minp[0][1]] != self.minp[0][0]: heappop(self.minp)\n",
        "        return self.minp[0][0]\n",
        "\n",
        "stockPrice = StockPrice()\n",
        "stockPrice.update(1, 10)  # Timestamps are [1] with prices [10]\n",
        "stockPrice.update(2, 5)   # Timestamps are [1, 2] with prices [10, 5]\n",
        "print(stockPrice.current())  # Output: 5\n",
        "print(stockPrice.maximum())  # Output: 10\n",
        "stockPrice.update(1, 3)   # Update timestamp 1 to price 3\n",
        "print(stockPrice.maximum())  # Output: 5\n",
        "stockPrice.update(4, 2)   # Timestamps are [1, 2, 4] with prices [3, 5, 2]\n",
        "print(stockPrice.minimum())  # Output: 2"
      ],
      "metadata": {
        "colab": {
          "base_uri": "https://localhost:8080/"
        },
        "id": "XoE6n8ZdmwST",
        "outputId": "ad86c85d-08a7-4242-ca67-97002ab6ad9d"
      },
      "execution_count": 24,
      "outputs": [
        {
          "output_type": "stream",
          "name": "stdout",
          "text": [
            "5\n",
            "10\n",
            "5\n",
            "2\n"
          ]
        }
      ]
    },
    {
      "cell_type": "markdown",
      "source": [
        "# 79. Word Search"
      ],
      "metadata": {
        "id": "D1eRumkOobiD"
      }
    },
    {
      "cell_type": "markdown",
      "source": [
        "Given an m x n grid of characters board and a string word, return true if word exists in the grid.\n",
        "\n",
        "The word can be constructed from letters of sequentially adjacent cells, where adjacent cells are horizontally or vertically neighboring. The same letter cell may not be used more than once.\n",
        "\n",
        "\n",
        "\n",
        "Example 1:\n",
        "\n",
        "\n",
        "Input: board = [[\"A\",\"B\",\"C\",\"E\"],[\"S\",\"F\",\"C\",\"S\"],[\"A\",\"D\",\"E\",\"E\"]], word = \"ABCCED\"\n",
        "Output: true\n",
        "Example 2:\n",
        "\n",
        "\n",
        "Input: board = [[\"A\",\"B\",\"C\",\"E\"],[\"S\",\"F\",\"C\",\"S\"],[\"A\",\"D\",\"E\",\"E\"]], word = \"SEE\"\n",
        "Output: true\n",
        "Example 3:\n",
        "\n",
        "\n",
        "Input: board = [[\"A\",\"B\",\"C\",\"E\"],[\"S\",\"F\",\"C\",\"S\"],[\"A\",\"D\",\"E\",\"E\"]], word = \"ABCB\"\n",
        "Output: false\n",
        "\n",
        "\n",
        "Constraints:\n",
        "\n",
        "m == board.length\n",
        "n = board[i].length\n",
        "1 <= m, n <= 6\n",
        "1 <= word.length <= 15\n",
        "board and word consists of only lowercase and uppercase English letters.\n",
        "\n",
        "\n",
        "Follow up: Could you use search pruning to make your solution faster with a larger board?"
      ],
      "metadata": {
        "id": "Wf7H6FYeoZWw"
      }
    },
    {
      "cell_type": "code",
      "source": [
        "from typing import List\n",
        "\n",
        "class Solution:\n",
        "    def exist(self, board: List[List[str]], word: str) -> bool:\n",
        "        ROWS, COLS = len(board), len(board[0])\n",
        "\n",
        "        def dfs(r, c, i):\n",
        "            if i == len(word):\n",
        "                return True\n",
        "            if r < 0 or c < 0 or r >= ROWS or c >= COLS or board[r][c] != word[i]:\n",
        "                return False\n",
        "\n",
        "            temp = board[r][c]\n",
        "            board[r][c] = \"#\"  # Mark the cell as visited\n",
        "            res = (dfs(r + 1, c, i + 1) or\n",
        "                   dfs(r - 1, c, i + 1) or\n",
        "                   dfs(r, c + 1, i + 1) or\n",
        "                   dfs(r, c - 1, i + 1))\n",
        "            board[r][c] = temp  # Unmark the cell\n",
        "            return res\n",
        "\n",
        "        for r in range(ROWS):\n",
        "            for c in range(COLS):\n",
        "                if dfs(r, c, 0):\n",
        "                    return True\n",
        "        return False\n",
        "\n",
        "\n",
        "    # O(n * m * 4^n)"
      ],
      "metadata": {
        "id": "RaU2zVycokk2"
      },
      "execution_count": 2,
      "outputs": []
    },
    {
      "cell_type": "code",
      "source": [
        "# Instantiate the solution class and test it\n",
        "solution = Solution()\n",
        "\n",
        "# Example board and word\n",
        "board = [\n",
        "    ['A', 'B', 'C', 'E'],\n",
        "    ['S', 'F', 'C', 'S'],\n",
        "    ['A', 'D', 'E', 'E']\n",
        "]\n",
        "word = \"ABCCED\"  # Should return True\n",
        "\n",
        "result = solution.exist(board, word)\n",
        "print(result)"
      ],
      "metadata": {
        "colab": {
          "base_uri": "https://localhost:8080/"
        },
        "id": "ZSbahlyVbBpE",
        "outputId": "ce4eb6ae-95de-46e0-9888-b1b9719dbe8d"
      },
      "execution_count": 4,
      "outputs": [
        {
          "output_type": "stream",
          "name": "stdout",
          "text": [
            "True\n"
          ]
        }
      ]
    },
    {
      "cell_type": "markdown",
      "source": [
        "# LeetCode 353. Design Snake Game\n"
      ],
      "metadata": {
        "id": "8NYrC_A7desa"
      }
    },
    {
      "cell_type": "markdown",
      "source": [
        "The goal of LeetCode 353. Design Snake Game is to design a snake game simulation where the snake moves on a grid, consumes food, and grows in length. Here's how you can implement this in Python:\n",
        "\n",
        "Problem Description\n",
        "The snake is initialized with a length of 1 at the top-left corner (0,0).\n",
        "The game is played on a grid with width and height.\n",
        "The snake moves one step in the specified direction (\"U\", \"D\", \"L\", \"R\").\n",
        "If the snake eats food, it grows in length.\n",
        "The game ends if:\n",
        "The snake moves out of bounds.\n",
        "The snake collides with itself."
      ],
      "metadata": {
        "id": "uMfwnv4DdhJD"
      }
    },
    {
      "cell_type": "code",
      "source": [
        "from collections import deque\n",
        "\n",
        "class SnakeGame:\n",
        "    def __init__(self, width: int, height: int, food: List[List[int]]):\n",
        "        self.width = width\n",
        "        self.height = height\n",
        "        self.food = deque(food)  # Queue to manage food\n",
        "        self.snake = deque([(0, 0)])  # Snake initially at (0,0)\n",
        "        self.snake_set = set([(0, 0)])  # To quickly check for collisions\n",
        "        self.score = 0\n",
        "\n",
        "    def move(self, direction: str) -> int:\n",
        "        # Current head of the snake\n",
        "        head_row, head_col = self.snake[0]\n",
        "\n",
        "        # Compute new head position based on direction\n",
        "        if direction == \"U\":\n",
        "            head_row -= 1\n",
        "        elif direction == \"D\":\n",
        "            head_row += 1\n",
        "        elif direction == \"L\":\n",
        "            head_col -= 1\n",
        "        elif direction == \"R\":\n",
        "            head_col += 1\n",
        "\n",
        "        new_head = (head_row, head_col)\n",
        "\n",
        "        # Check if the new head position is out of bounds\n",
        "        if not (0 <= head_row < self.height and 0 <= head_col < self.width):\n",
        "            return -1  # Game over\n",
        "\n",
        "        # Check if the new head collides with the body (excluding the tail, as it may move)\n",
        "        if new_head in self.snake_set and new_head != self.snake[-1]:\n",
        "            return -1  # Game over\n",
        "\n",
        "        # Add new head to the snake\n",
        "        self.snake.appendleft(new_head)\n",
        "        self.snake_set.add(new_head)\n",
        "\n",
        "        # Check if the new head is on a food position\n",
        "        if self.food and list(new_head) == self.food[0]:\n",
        "            self.food.popleft()  # Remove the food\n",
        "            self.score += 1\n",
        "        else:\n",
        "            # Remove the tail as the snake moves forward\n",
        "            tail = self.snake.pop()\n",
        "            self.snake_set.remove(tail)\n",
        "\n",
        "        return self.score\n",
        "\n",
        "\n",
        "\n",
        "# Initialize the game with grid size and food positions\n",
        "game = SnakeGame(3, 2, [[1, 2], [0, 1]])\n",
        "\n",
        "# Moves\n",
        "print(game.move(\"R\"))  # 0\n",
        "print(game.move(\"D\"))  # 0\n",
        "print(game.move(\"R\"))  # 1 (snake eats the first food)\n",
        "print(game.move(\"U\"))  # 1\n",
        "print(game.move(\"L\"))  # 2 (snake eats the second food)\n",
        "print(game.move(\"U\"))  # -1 (snake hits the wall)\n"
      ],
      "metadata": {
        "colab": {
          "base_uri": "https://localhost:8080/"
        },
        "id": "hv_400eMdrSJ",
        "outputId": "ecad1331-7b75-4fb6-d56a-519e182e313c"
      },
      "execution_count": 5,
      "outputs": [
        {
          "output_type": "stream",
          "name": "stdout",
          "text": [
            "0\n",
            "0\n",
            "1\n",
            "1\n",
            "2\n",
            "-1\n"
          ]
        }
      ]
    },
    {
      "cell_type": "markdown",
      "source": [
        "# 1048. Longest String Chain\n",
        "\n",
        "> Add blockquote\n",
        "\n"
      ],
      "metadata": {
        "id": "EUHumzfTCzyf"
      }
    },
    {
      "cell_type": "markdown",
      "source": [
        "You are given an array of words where each word consists of lowercase English letters.\n",
        "\n",
        "wordA is a predecessor of wordB if and only if we can insert exactly one letter anywhere in wordA without changing the order of the other characters to make it equal to wordB.\n",
        "\n",
        "For example, \"abc\" is a predecessor of \"abac\", while \"cba\" is not a predecessor of \"bcad\".\n",
        "A word chain is a sequence of words [word1, word2, ..., wordk] with k >= 1, where word1 is a predecessor of word2, word2 is a predecessor of word3, and so on. A single word is trivially a word chain with k == 1.\n",
        "\n",
        "Return the length of the longest possible word chain with words chosen from the given list of words.\n",
        "\n",
        "\n",
        "\n",
        "Example 1:\n",
        "\n",
        "Input: words = [\"a\",\"b\",\"ba\",\"bca\",\"bda\",\"bdca\"]\n",
        "Output: 4\n",
        "Explanation: One of the longest word chains is [\"a\",\"ba\",\"bda\",\"bdca\"].\n",
        "Example 2:\n",
        "\n",
        "Input: words = [\"xbc\",\"pcxbcf\",\"xb\",\"cxbc\",\"pcxbc\"]\n",
        "Output: 5\n",
        "Explanation: All the words can be put in a word chain [\"xb\", \"xbc\", \"cxbc\", \"pcxbc\", \"pcxbcf\"].\n",
        "Example 3:\n",
        "\n",
        "Input: words = [\"abcd\",\"dbqca\"]\n",
        "Output: 1\n",
        "Explanation: The trivial word chain [\"abcd\"] is one of the longest word chains.\n",
        "[\"abcd\",\"dbqca\"] is not a valid word chain because the ordering of the letters is changed.\n",
        "\n",
        "\n",
        "Constraints:\n",
        "\n",
        "1 <= words.length <= 1000\n",
        "1 <= words[i].length <= 16\n",
        "words[i] only consists of lowercase English letters."
      ],
      "metadata": {
        "id": "dyhF4eAkDFqF"
      }
    },
    {
      "cell_type": "code",
      "source": [
        "from typing import List\n",
        "class Solution:\n",
        "    def longestStrChain(self, words: List[str]) -> int:\n",
        "        from collections import defaultdict\n",
        "        # cache len of chain\n",
        "        cache = defaultdict(int) # word: length of chain\n",
        "        # initiate data\n",
        "        data = sorted(words, key=lambda w: len(w))\n",
        "\n",
        "        for word in data:\n",
        "            # from word, the len of chain is 1 at 1st\n",
        "            cache[word] = 1\n",
        "            for index in range(len(word)):\n",
        "                # construct predecessor\n",
        "                predecessor = word[:index] + word[index + 1:]\n",
        "                if predecessor in cache:\n",
        "                    cache[word] = max(cache[word], cache[predecessor] + 1)\n",
        "\n",
        "        return max(cache.values())"
      ],
      "metadata": {
        "id": "kk6_Oz_ODKD6"
      },
      "execution_count": 2,
      "outputs": []
    },
    {
      "cell_type": "code",
      "source": [
        "def longestStrChain(words):\n",
        "    # Sort the words by their lengths\n",
        "    words.sort(key=len)\n",
        "\n",
        "    # Dictionary to store the longest chain for each word\n",
        "    dp = {}\n",
        "    max_chain = 1  # At least one word in a chain\n",
        "\n",
        "    for word in words:\n",
        "        dp[word] = 1  # Every word is at least a chain of length 1\n",
        "        # Check all possible predecessors\n",
        "        for i in range(len(word)):\n",
        "            # Form a predecessor by removing one character\n",
        "            predecessor = word[:i] + word[i+1:]\n",
        "            if predecessor in dp:\n",
        "                dp[word] = max(dp[word], dp[predecessor] + 1)\n",
        "        max_chain = max(max_chain, dp[word])\n",
        "\n",
        "    return max_chain\n"
      ],
      "metadata": {
        "id": "0JoOb-7KRGMa"
      },
      "execution_count": 3,
      "outputs": []
    },
    {
      "cell_type": "code",
      "source": [
        "# Test cases\n",
        "test_cases = [\n",
        "    # Test case 1: Simple chain\n",
        "    ([\"a\", \"b\", \"ba\", \"bca\", \"bda\", \"bdca\"], 4),\n",
        "\n",
        "    # Test case 2: No chains\n",
        "    ([\"abcd\", \"efgh\", \"ijkl\"], 1),\n",
        "\n",
        "    # Test case 3: All words in a single chain\n",
        "    ([\"a\", \"ab\", \"abc\", \"abcd\"], 4),\n",
        "\n",
        "    # Test case 4: Words with no valid predecessors\n",
        "    ([\"xyz\", \"yx\", \"z\"], 1),\n",
        "\n",
        "    # Test case 5: Multiple chains\n",
        "    ([\"a\", \"b\", \"ba\", \"bca\", \"bd\", \"bdc\", \"bdca\"], 4),\n",
        "\n",
        "    # Test case 6: Single word\n",
        "    ([\"singleton\"], 1),\n",
        "\n",
        "    # Test case 7: Multiple equally long chains\n",
        "    ([\"a\", \"b\", \"ab\", \"ac\", \"abc\", \"acd\"], 3),\n",
        "]\n",
        "\n",
        "# Function to run the tests\n",
        "def run_tests():\n",
        "    for i, (words, expected) in enumerate(test_cases):\n",
        "        result = longestStrChain(words)\n",
        "        print(f\"Test Case {i + 1}: {'Passed' if result == expected else 'Failed'}\")\n",
        "        print(f\"  Input: {words}\")\n",
        "        print(f\"  Output: {result}, Expected: {expected}\\n\")\n",
        "\n",
        "# Run the tests\n",
        "run_tests()\n"
      ],
      "metadata": {
        "colab": {
          "base_uri": "https://localhost:8080/"
        },
        "id": "BFCHPeENRW2_",
        "outputId": "f3f02fbb-34e6-4106-93db-13495b7ffe6b"
      },
      "execution_count": 4,
      "outputs": [
        {
          "output_type": "stream",
          "name": "stdout",
          "text": [
            "Test Case 1: Passed\n",
            "  Input: ['a', 'b', 'ba', 'bca', 'bda', 'bdca']\n",
            "  Output: 4, Expected: 4\n",
            "\n",
            "Test Case 2: Passed\n",
            "  Input: ['abcd', 'efgh', 'ijkl']\n",
            "  Output: 1, Expected: 1\n",
            "\n",
            "Test Case 3: Passed\n",
            "  Input: ['a', 'ab', 'abc', 'abcd']\n",
            "  Output: 4, Expected: 4\n",
            "\n",
            "Test Case 4: Passed\n",
            "  Input: ['z', 'yx', 'xyz']\n",
            "  Output: 1, Expected: 1\n",
            "\n",
            "Test Case 5: Passed\n",
            "  Input: ['a', 'b', 'ba', 'bd', 'bca', 'bdc', 'bdca']\n",
            "  Output: 4, Expected: 4\n",
            "\n",
            "Test Case 6: Passed\n",
            "  Input: ['singleton']\n",
            "  Output: 1, Expected: 1\n",
            "\n",
            "Test Case 7: Passed\n",
            "  Input: ['a', 'b', 'ab', 'ac', 'abc', 'acd']\n",
            "  Output: 3, Expected: 3\n",
            "\n"
          ]
        }
      ]
    },
    {
      "cell_type": "markdown",
      "source": [
        "# 432. All O`one Data Structure\""
      ],
      "metadata": {
        "id": "2slmb3-HR3bX"
      }
    },
    {
      "cell_type": "markdown",
      "source": [
        "Design a data structure to store the strings' count with the ability to return the strings with minimum and maximum counts.\n",
        "\n",
        "Implement the AllOne class:\n",
        "\n",
        "AllOne() Initializes the object of the data structure.\n",
        "inc(String key) Increments the count of the string key by 1. If key does not exist in the data structure, insert it with count 1.\n",
        "dec(String key) Decrements the count of the string key by 1. If the count of key is 0 after the decrement, remove it from the data structure. It is guaranteed that key exists in the data structure before the decrement.\n",
        "getMaxKey() Returns one of the keys with the maximal count. If no element exists, return an empty string \"\".\n",
        "getMinKey() Returns one of the keys with the minimum count. If no element exists, return an empty string \"\".\n",
        "Note that each function must run in O(1) average time complexity.\n",
        "\n",
        "\n",
        "\n",
        "Example 1:\n",
        "\n",
        "Input\n",
        "[\"AllOne\", \"inc\", \"inc\", \"getMaxKey\", \"getMinKey\", \"inc\", \"getMaxKey\", \"getMinKey\"]\n",
        "[[], [\"hello\"], [\"hello\"], [], [], [\"leet\"], [], []]\n",
        "Output\n",
        "[null, null, null, \"hello\", \"hello\", null, \"hello\", \"leet\"]\n",
        "\n",
        "Explanation\n",
        "AllOne allOne = new AllOne();\n",
        "allOne.inc(\"hello\");\n",
        "allOne.inc(\"hello\");\n",
        "allOne.getMaxKey(); // return \"hello\"\n",
        "allOne.getMinKey(); // return \"hello\"\n",
        "allOne.inc(\"leet\");\n",
        "allOne.getMaxKey(); // return \"hello\"\n",
        "allOne.getMinKey(); // return \"leet\"\n",
        "\n",
        "\n",
        "Constraints:\n",
        "\n",
        "1 <= key.length <= 10\n",
        "key consists of lowercase English letters.\n",
        "It is guaranteed that for each call to dec, key is existing in the data structure.\n",
        "At most 5 * 104 calls will be made to inc, dec, getMaxKey, and getMinKey."
      ],
      "metadata": {
        "id": "3CJSm4I3R6Rf"
      }
    },
    {
      "cell_type": "code",
      "source": [
        "class AllOne:\n",
        "    def __init__(self):\n",
        "        self.key_to_count = {}\n",
        "        self.count_to_keys = {}\n",
        "        self.min_freq = None\n",
        "        self.max_freq = None\n",
        "\n",
        "    def inc(self, key: str) -> None:\n",
        "        current_count = self.key_to_count.get(key, 0)\n",
        "        new_count = current_count + 1\n",
        "        self.key_to_count[key] = new_count\n",
        "\n",
        "        # Remove the key from the old count bucket\n",
        "        if current_count > 0:\n",
        "            self.count_to_keys[current_count].remove(key)\n",
        "            if not self.count_to_keys[current_count]:\n",
        "                del self.count_to_keys[current_count]\n",
        "                if self.min_freq == current_count:\n",
        "                    self.min_freq += 1\n",
        "\n",
        "        # Add the key to the new count bucket\n",
        "        if new_count not in self.count_to_keys:\n",
        "            self.count_to_keys[new_count] = set()\n",
        "        self.count_to_keys[new_count].add(key)\n",
        "\n",
        "        # Update max_freq and min_freq\n",
        "        if self.max_freq is None or new_count > self.max_freq:\n",
        "            self.max_freq = new_count\n",
        "        if self.min_freq is None or new_count < self.min_freq:\n",
        "            self.min_freq = new_count\n",
        "\n",
        "    def dec(self, key: str) -> None:\n",
        "        if key not in self.key_to_count:\n",
        "            return\n",
        "\n",
        "        current_count = self.key_to_count[key]\n",
        "        new_count = current_count - 1\n",
        "\n",
        "        # Remove the key from the old count bucket\n",
        "        self.count_to_keys[current_count].remove(key)\n",
        "        if not self.count_to_keys[current_count]:\n",
        "            del self.count_to_keys[current_count]\n",
        "            if self.max_freq == current_count:\n",
        "                self.max_freq -= 1\n",
        "            if self.min_freq == current_count:\n",
        "                self.min_freq -= 1\n",
        "\n",
        "        if new_count == 0:\n",
        "            del self.key_to_count[key]\n",
        "        else:\n",
        "            self.key_to_count[key] = new_count\n",
        "            if new_count not in self.count_to_keys:\n",
        "                self.count_to_keys[new_count] = set()\n",
        "            self.count_to_keys[new_count].add(key)\n",
        "\n",
        "            if self.min_freq is None or new_count < self.min_freq:\n",
        "                self.min_freq = new_count\n",
        "\n",
        "    def getMaxKey(self) -> str:\n",
        "        if not self.max_freq:\n",
        "            return \"\"\n",
        "        return next(iter(self.count_to_keys[self.max_freq]))\n",
        "\n",
        "    def getMinKey(self) -> str:\n",
        "        if not self.min_freq:\n",
        "            return \"\"\n",
        "        return next(iter(self.count_to_keys[self.min_freq]))\n"
      ],
      "metadata": {
        "id": "4EgkN9jPSGFz"
      },
      "execution_count": 5,
      "outputs": []
    },
    {
      "cell_type": "code",
      "source": [
        "obj = AllOne()\n",
        "obj.inc(\"apple\")\n",
        "obj.inc(\"banana\")\n",
        "obj.inc(\"apple\")\n",
        "print(obj.getMaxKey())  # Output: \"apple\"\n",
        "print(obj.getMinKey())  # Output: \"banana\"\n",
        "obj.dec(\"apple\")\n",
        "print(obj.getMaxKey())  # Output: \"apple\" or \"banana\"\n",
        "print(obj.getMinKey())  # Output: \"apple\" or \"banana\"\n"
      ],
      "metadata": {
        "colab": {
          "base_uri": "https://localhost:8080/"
        },
        "id": "GQawLr9RSK4g",
        "outputId": "52938150-144c-4b74-ed29-b37659dfdc43"
      },
      "execution_count": 6,
      "outputs": [
        {
          "output_type": "stream",
          "name": "stdout",
          "text": [
            "apple\n",
            "banana\n",
            "banana\n",
            "banana\n"
          ]
        }
      ]
    },
    {
      "cell_type": "markdown",
      "source": [
        "# 49. Group Anagrams\n"
      ],
      "metadata": {
        "id": "Ufl1z8asSR_w"
      }
    },
    {
      "cell_type": "markdown",
      "source": [
        "Given an array of strings strs, group the\n",
        "anagrams\n",
        " together. You can return the answer in any order.\n",
        "\n",
        "\n",
        "\n",
        "Example 1:\n",
        "\n",
        "Input: strs = [\"eat\",\"tea\",\"tan\",\"ate\",\"nat\",\"bat\"]\n",
        "\n",
        "Output: [[\"bat\"],[\"nat\",\"tan\"],[\"ate\",\"eat\",\"tea\"]]\n",
        "\n",
        "Explanation:\n",
        "\n",
        "There is no string in strs that can be rearranged to form \"bat\".\n",
        "The strings \"nat\" and \"tan\" are anagrams as they can be rearranged to form each other.\n",
        "The strings \"ate\", \"eat\", and \"tea\" are anagrams as they can be rearranged to form each other.\n",
        "Example 2:\n",
        "\n",
        "Input: strs = [\"\"]\n",
        "\n",
        "Output: [[\"\"]]\n",
        "\n",
        "Example 3:\n",
        "\n",
        "Input: strs = [\"a\"]\n",
        "\n",
        "Output: [[\"a\"]]\n",
        "\n",
        "\n",
        "\n",
        "Constraints:\n",
        "\n",
        "1 <= strs.length <= 104\n",
        "0 <= strs[i].length <= 100\n",
        "strs[i] consists of lowercase English letters."
      ],
      "metadata": {
        "id": "kOib0O9ISU-w"
      }
    },
    {
      "cell_type": "code",
      "source": [
        "class Solution:\n",
        "    def groupAnagrams(self, strs: List[str]) -> List[List[str]]:\n",
        "        res = defaultdict(list)\n",
        "        for s in strs:\n",
        "            count = [0] * 26\n",
        "            for c in s:\n",
        "                count[ord(c) - ord('a')] += 1\n",
        "            res[tuple(count)].append(s)\n",
        "        return list(res.values())"
      ],
      "metadata": {
        "id": "1jsOPK8tSZgr"
      },
      "execution_count": 7,
      "outputs": []
    }
  ]
}