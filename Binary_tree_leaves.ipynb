{
  "nbformat": 4,
  "nbformat_minor": 0,
  "metadata": {
    "colab": {
      "provenance": [],
      "authorship_tag": "ABX9TyMv2ZQJszF/XhNiJdFVlgXS",
      "include_colab_link": true
    },
    "kernelspec": {
      "name": "python3",
      "display_name": "Python 3"
    },
    "language_info": {
      "name": "python"
    }
  },
  "cells": [
    {
      "cell_type": "markdown",
      "metadata": {
        "id": "view-in-github",
        "colab_type": "text"
      },
      "source": [
        "<a href=\"https://colab.research.google.com/github/Amanollahi/Data-structure/blob/main/Binary_tree_leaves.ipynb\" target=\"_parent\"><img src=\"https://colab.research.google.com/assets/colab-badge.svg\" alt=\"Open In Colab\"/></a>"
      ]
    },
    {
      "cell_type": "code",
      "execution_count": 3,
      "metadata": {
        "id": "1QEKVhooQUm3"
      },
      "outputs": [],
      "source": [
        "from collections import defaultdict\n",
        "\n",
        "class TreeNode:\n",
        "    def __init__(self, val=0, left=None, right=None):\n",
        "        self.val = val\n",
        "        self.left = left\n",
        "        self.right = right\n",
        "\n",
        "class Solution:\n",
        "    def findLeaves(self, root: TreeNode) -> list[list[int]]:\n",
        "\n",
        "        leaves = defaultdict(list)\n",
        "\n",
        "        def dfs(node):\n",
        "            if not node:\n",
        "                return -1\n",
        "            left_height = dfs(node.left)\n",
        "            right_height = dfs(node.right)\n",
        "            height = 1 + max(left_height, right_height)\n",
        "            leaves[height].append(node.val)\n",
        "            return height\n",
        "\n",
        "\n",
        "        dfs(root)\n",
        "        return list(leaves.values())\n"
      ]
    },
    {
      "cell_type": "code",
      "source": [
        "# Example Tree\n",
        "root = TreeNode(1)\n",
        "root.left = TreeNode(8)\n",
        "root.right = TreeNode(8)\n",
        "root.left.left = TreeNode(4)\n",
        "root.left.right = TreeNode(5)\n",
        "\n",
        "solution = Solution()\n",
        "print(solution.findLeaves(root))\n",
        "# Output: [[4, 5, 3], [2], [1]]\n"
      ],
      "metadata": {
        "colab": {
          "base_uri": "https://localhost:8080/"
        },
        "id": "bJy83PxeQbf-",
        "outputId": "eb61aa20-25d1-4eab-a053-ff0c7b298918"
      },
      "execution_count": 6,
      "outputs": [
        {
          "output_type": "stream",
          "name": "stdout",
          "text": [
            "[[4, 5, 8], [8], [1]]\n"
          ]
        }
      ]
    }
  ]
}