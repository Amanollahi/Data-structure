{
  "nbformat": 4,
  "nbformat_minor": 0,
  "metadata": {
    "colab": {
      "provenance": [],
      "authorship_tag": "ABX9TyNGRLvF2l0CdHMzTsC19pj4",
      "include_colab_link": true
    },
    "kernelspec": {
      "name": "python3",
      "display_name": "Python 3"
    },
    "language_info": {
      "name": "python"
    }
  },
  "cells": [
    {
      "cell_type": "markdown",
      "metadata": {
        "id": "view-in-github",
        "colab_type": "text"
      },
      "source": [
        "<a href=\"https://colab.research.google.com/github/Amanollahi/Data-structure/blob/main/Binary_tree_leaves.ipynb\" target=\"_parent\"><img src=\"https://colab.research.google.com/assets/colab-badge.svg\" alt=\"Open In Colab\"/></a>"
      ]
    },
    {
      "cell_type": "code",
      "execution_count": null,
      "metadata": {
        "id": "1QEKVhooQUm3"
      },
      "outputs": [],
      "source": [
        "from collections import defaultdict\n",
        "\n",
        "class TreeNode:\n",
        "    def __init__(self, val=0, left=None, right=None):\n",
        "        self.val = val\n",
        "        self.left = left\n",
        "        self.right = right\n",
        "\n",
        "class Solution:\n",
        "    def findLeaves(self, root: TreeNode) -> list[list[int]]:\n",
        "\n",
        "        leaves = defaultdict(list)\n",
        "\n",
        "        def dfs(node):\n",
        "            if not node:\n",
        "                return -1\n",
        "            left_height = dfs(node.left)\n",
        "            right_height = dfs(node.right)\n",
        "            height = 1 + max(left_height, right_height)\n",
        "            leaves[height].append(node.val)\n",
        "            return height\n",
        "\n",
        "\n",
        "        dfs(root)\n",
        "        return list(leaves.values())\n"
      ]
    },
    {
      "cell_type": "code",
      "source": [
        "# Example Tree\n",
        "root = TreeNode(1)\n",
        "root.left = TreeNode(8)\n",
        "root.right = TreeNode(8)\n",
        "root.left.left = TreeNode(4)\n",
        "root.left.right = TreeNode(5)\n",
        "\n",
        "solution = Solution()\n",
        "print(solution.findLeaves(root))\n",
        "# Output: [[4, 5, 3], [2], [1]]\n"
      ],
      "metadata": {
        "colab": {
          "base_uri": "https://localhost:8080/"
        },
        "id": "bJy83PxeQbf-",
        "outputId": "eb61aa20-25d1-4eab-a053-ff0c7b298918"
      },
      "execution_count": null,
      "outputs": [
        {
          "output_type": "stream",
          "name": "stdout",
          "text": [
            "[[4, 5, 8], [8], [1]]\n"
          ]
        }
      ]
    },
    {
      "cell_type": "code",
      "source": [
        "class TimeMap:\n",
        "\n",
        "    def __init__(self):\n",
        "        self.keyStore = {}  # key : list of [val, timestamp]\n",
        "\n",
        "    def set(self, key: str, value: str, timestamp: int) -> None:\n",
        "        if key not in self.keyStore:\n",
        "            self.keyStore[key] = []\n",
        "        self.keyStore[key].append([value, timestamp])\n",
        "\n",
        "    def get(self, key: str, timestamp: int) -> str:\n",
        "        res, values = \"\", self.keyStore.get(key, [])\n",
        "        l, r = 0, len(values) - 1\n",
        "        while l <= r:\n",
        "            m = (l + r) // 2\n",
        "            if values[m][1] <= timestamp:\n",
        "                res = values[m][0]\n",
        "                l = m + 1\n",
        "            else:\n",
        "                r = m - 1\n",
        "        return res"
      ],
      "metadata": {
        "id": "fYPY6U6LfNlJ"
      },
      "execution_count": null,
      "outputs": []
    },
    {
      "cell_type": "code",
      "source": [
        "timeMap = TimeMap()\n",
        "timeMap.set(\"foo\", \"bar\", 1)\n",
        "print(timeMap.get(\"foo\", 1))  # Output: \"bar\"\n",
        "print(timeMap.get(\"foo\", 3))  # Output: \"bar\"\n",
        "timeMap.set(\"foo\", \"bar2\", 4)\n",
        "print(timeMap.get(\"foo\", 4))  # Output: \"bar2\"\n",
        "print(timeMap.get(\"foo\", 5))  # Output: \"bar2\"\n"
      ],
      "metadata": {
        "colab": {
          "base_uri": "https://localhost:8080/"
        },
        "id": "kt7x5MCJfXdV",
        "outputId": "2ef26983-4a90-4ba6-8f71-4e42f21c3478"
      },
      "execution_count": null,
      "outputs": [
        {
          "output_type": "stream",
          "name": "stdout",
          "text": [
            "bar\n",
            "bar\n",
            "bar2\n",
            "bar2\n"
          ]
        }
      ]
    },
    {
      "cell_type": "code",
      "source": [
        "def lemonadeChange(bills):\n",
        "    five, ten = 0, 0  # To track the number of $5 and $10 bills\n",
        "\n",
        "    for bill in bills:\n",
        "        if bill == 5:\n",
        "            five += 1  # Collect $5 bill\n",
        "        elif bill == 10:\n",
        "            if five == 0:  # No $5 bill for change\n",
        "                return False\n",
        "            five -= 1\n",
        "            ten += 1  # Collect $10 bill\n",
        "        elif bill == 20:\n",
        "            # Prefer to use one $10 and one $5 for change\n",
        "            if ten > 0 and five > 0:\n",
        "                ten -= 1\n",
        "                five -= 1\n",
        "            elif five >= 3:  # Otherwise use three $5 bills\n",
        "                five -= 3\n",
        "            else:  # Not enough bills for change\n",
        "                return False\n",
        "    return True\n",
        "print(lemonadeChange([5, 5, 5, 10, 20]))  # True\n",
        "print(lemonadeChange([5, 5, 10, 10, 20]))  # False\n",
        "print(lemonadeChange([5, 5, 10]))          # True\n",
        "print(lemonadeChange([10, 10]))            # False\n"
      ],
      "metadata": {
        "colab": {
          "base_uri": "https://localhost:8080/"
        },
        "id": "VdhPC_q_mHOB",
        "outputId": "b5fd68e8-d6b0-4918-abca-47f799607c7a"
      },
      "execution_count": null,
      "outputs": [
        {
          "output_type": "stream",
          "name": "stdout",
          "text": [
            "True\n",
            "False\n",
            "True\n",
            "False\n"
          ]
        }
      ]
    },
    {
      "cell_type": "code",
      "source": [
        "class TreeNode:\n",
        "    def __init__(self, val=0, left=None, right=None):\n",
        "        self.val = val\n",
        "        self.left = left\n",
        "        self.right = right\n",
        "\n",
        "class Solution:\n",
        "    def maximumAverageSubtree(self, root: TreeNode) -> float:\n",
        "        self.max_average = float('-inf')  # To keep track of the maximum average\n",
        "\n",
        "        def dfs(node):\n",
        "            # Base case: If the node is None, return sum = 0, count = 0\n",
        "            if not node:\n",
        "                return (0, 0)\n",
        "\n",
        "            # Recursively get the sum and count for the left and right subtrees\n",
        "            left_sum, left_count = dfs(node.left)\n",
        "            right_sum, right_count = dfs(node.right)\n",
        "\n",
        "            # Calculate the sum and count for the current subtree\n",
        "            current_sum = node.val + left_sum + right_sum\n",
        "            current_count = 1 + left_count + right_count\n",
        "\n",
        "            # Calculate the average for the current subtree\n",
        "            current_average = current_sum / current_count\n",
        "\n",
        "            # Update the maximum average\n",
        "            self.max_average = max(self.max_average, current_average)\n",
        "\n",
        "            return (current_sum, current_count)\n",
        "\n",
        "        # Start the DFS traversal from the root\n",
        "        dfs(root)\n",
        "\n",
        "        return self.max_average\n",
        "\n",
        "\n",
        "\n",
        "\n",
        "# Example 1\n",
        "root = TreeNode(5)\n",
        "root.left = TreeNode(6)\n",
        "root.right = TreeNode(1)\n",
        "\n",
        "solution = Solution()\n",
        "print(solution.maximumAverageSubtree(root))  # Output: 6.0\n",
        "\n",
        "# Example 2\n",
        "root = TreeNode(1)\n",
        "root.left = TreeNode(-5)\n",
        "root.right = TreeNode(11)\n",
        "root.left.left = TreeNode(1)\n",
        "root.left.right = TreeNode(2)\n",
        "root.right.left = TreeNode(4)\n",
        "root.right.right = TreeNode(-2)\n",
        "\n",
        "solution = Solution()\n",
        "print(solution.maximumAverageSubtree(root))  # Output: 4.666666666666667\n"
      ],
      "metadata": {
        "id": "NBK8cLSOmXkV"
      },
      "execution_count": null,
      "outputs": []
    },
    {
      "cell_type": "markdown",
      "source": [
        "# 1366 Rank teams by votes"
      ],
      "metadata": {
        "id": "SSPeStAJYwvr"
      }
    },
    {
      "cell_type": "markdown",
      "source": [
        "In a special ranking system, each voter gives a rank from highest to lowest to all teams participating in the competition.\n",
        "\n",
        "The ordering of teams is decided by who received the most position-one votes. If two or more teams tie in the first position, we consider the second position to resolve the conflict, if they tie again, we continue this process until the ties are resolved. If two or more teams are still tied after considering all positions, we rank them alphabetically based on their team letter.\n",
        "\n",
        "You are given an array of strings votes which is the votes of all voters in the ranking systems. Sort all teams according to the ranking system described above.\n",
        "\n",
        "Return a string of all teams sorted by the ranking system.\n",
        "\n",
        "\n",
        "\n",
        "Example 1:\n",
        "\n",
        "Input: votes = [\"ABC\",\"ACB\",\"ABC\",\"ACB\",\"ACB\"]\n",
        "Output: \"ACB\"\n",
        "Explanation:\n",
        "Team A was ranked first place by 5 voters. No other team was voted as first place, so team A is the first team.\n",
        "Team B was ranked second by 2 voters and ranked third by 3 voters.\n",
        "Team C was ranked second by 3 voters and ranked third by 2 voters.\n",
        "As most of the voters ranked C second, team C is the second team, and team B is the third.\n",
        "Example 2:\n",
        "\n",
        "Input: votes = [\"WXYZ\",\"XYZW\"]\n",
        "Output: \"XWYZ\"\n",
        "Explanation:\n",
        "X is the winner due to the tie-breaking rule. X has the same votes as W for the first position, but X has one vote in the second position, while W does not have any votes in the second position.\n",
        "Example 3:\n",
        "\n",
        "Input: votes = [\"ZMNAGUEDSJYLBOPHRQICWFXTVK\"]\n",
        "Output: \"ZMNAGUEDSJYLBOPHRQICWFXTVK\"\n",
        "Explanation: Only one voter, so their votes are used for the ranking.\n",
        "\n",
        "\n",
        "Constraints:\n",
        "\n",
        "1 <= votes.length <= 1000\n",
        "1 <= votes[i].length <= 26\n",
        "votes[i].length == votes[j].length for 0 <= i, j < votes.length.\n",
        "votes[i][j] is an English uppercase letter.\n",
        "All characters of votes[i] are unique.\n",
        "All the characters that occur in votes[0] also occur in votes[j] where 1 <= j < votes.length."
      ],
      "metadata": {
        "id": "UTe26F0KYmC2"
      }
    },
    {
      "cell_type": "code",
      "source": [
        "from collections import defaultdict\n",
        "from typing import List\n",
        "\n",
        "def rankTeams(votes: List[str]) -> str:\n",
        "    print(votes)\n",
        "    # Number of teams\n",
        "    n = len(votes[0])\n",
        "    # Dictionary to store the rankings\n",
        "    dic = defaultdict(lambda: [0] * n)\n",
        "\n",
        "    # Count votes for each team\n",
        "    for vote in votes:\n",
        "        for place, team in enumerate(vote):\n",
        "            #print(place)\n",
        "            #print(team)\n",
        "            dic[team][place] += 1\n",
        "            #print(dic)\n",
        "    print(dic.keys())\n",
        "    # Sort teams based on their rankings and alphabetically as a tie-breaker\n",
        "    return \"\".join(sorted(dic.keys(), key=lambda x: (dic[x], -ord(x)), reverse=True))\n",
        "\n",
        "# Example usage\n",
        "votes1 = [\"ABC\",\"ACB\",\"ABC\",\"ACB\",\"ACB\"]\n",
        "votes2 = [\"WXYZ\",\"XYZW\"]\n",
        "votes3 = [\"ZMNAGUEDSJYLBOPHRQICWFXTVK\"]\n",
        "\n",
        "rankTeams(votes1)\n",
        "#print(rankTeams(votes1))  # Output: \"ACB\"\n",
        "#print(rankTeams(votes2))  # Output: \"XWYZ\"\n",
        "#print(rankTeams(votes3))  # Output: \"ZMNAGUEDSJYLBOPHRQICWFXTVK\"\n"
      ],
      "metadata": {
        "colab": {
          "base_uri": "https://localhost:8080/",
          "height": 70
        },
        "id": "gcSSbkq9R8EP",
        "outputId": "6de3b5d2-96de-455f-e099-3065917050bd"
      },
      "execution_count": 16,
      "outputs": [
        {
          "output_type": "stream",
          "name": "stdout",
          "text": [
            "['ABC', 'ACB', 'ABC', 'ACB', 'ACB']\n",
            "dict_keys(['A', 'B', 'C'])\n"
          ]
        },
        {
          "output_type": "execute_result",
          "data": {
            "text/plain": [
              "'ACB'"
            ],
            "application/vnd.google.colaboratory.intrinsic+json": {
              "type": "string"
            }
          },
          "metadata": {},
          "execution_count": 16
        }
      ]
    },
    {
      "cell_type": "code",
      "source": [
        "from collections import defaultdict\n",
        "from typing import List\n",
        "\n",
        "class Solution:\n",
        "    def rankTeams(self, votes: List[str]) -> str:\n",
        "        n = len(votes[0])  # Number of teams\n",
        "        dic = defaultdict(lambda: [0] * n)  # Dictionary to store rankings\n",
        "\n",
        "        # Count votes for each team\n",
        "        for vote in votes:\n",
        "            for place, team in enumerate(vote):\n",
        "                dic[team][place] += 1\n",
        "\n",
        "        # Sort teams based on rankings and alphabetically as a tiebreaker\n",
        "        return \"\".join(sorted(dic.keys(), key=lambda x: (dic[x], -ord(x)), reverse=True))\n",
        "\n",
        "# Example usage\n",
        "solution = Solution()\n",
        "votes1 = [\"ABC\", \"ACB\", \"ABC\", \"ACB\", \"ACB\"]\n",
        "votes2 = [\"WXYZ\", \"XYZW\"]\n",
        "votes3 = [\"ZMNAGUEDSJYLBOPHRQICWFXTVK\"]\n",
        "\n",
        "print(solution.rankTeams(votes1))  # Output: \"ACB\"\n",
        "print(solution.rankTeams(votes2))  # Output: \"XWYZ\"\n",
        "print(solution.rankTeams(votes3))  # Output: \"ZMNAGUEDSJYLBOPHRQICWFXTVK\"\n"
      ],
      "metadata": {
        "colab": {
          "base_uri": "https://localhost:8080/"
        },
        "id": "8d7CKoH0SeGC",
        "outputId": "fa2f656b-5ca2-4c1a-b4c4-3124338b7d5b"
      },
      "execution_count": 4,
      "outputs": [
        {
          "output_type": "stream",
          "name": "stdout",
          "text": [
            "ACB\n",
            "XWYZ\n",
            "ZMNAGUEDSJYLBOPHRQICWFXTVK\n"
          ]
        }
      ]
    }
  ]
}