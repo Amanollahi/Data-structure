{
  "nbformat": 4,
  "nbformat_minor": 0,
  "metadata": {
    "colab": {
      "provenance": [],
      "authorship_tag": "ABX9TyPtoNmowLw+VOL7jRVptQ5/",
      "include_colab_link": true
    },
    "kernelspec": {
      "name": "python3",
      "display_name": "Python 3"
    },
    "language_info": {
      "name": "python"
    }
  },
  "cells": [
    {
      "cell_type": "markdown",
      "metadata": {
        "id": "view-in-github",
        "colab_type": "text"
      },
      "source": [
        "<a href=\"https://colab.research.google.com/github/Amanollahi/Data-structure/blob/main/Atlassian_Interview.ipynb\" target=\"_parent\"><img src=\"https://colab.research.google.com/assets/colab-badge.svg\" alt=\"Open In Colab\"/></a>"
      ]
    },
    {
      "cell_type": "markdown",
      "source": [
        "Imagine you are given a stream of content ids along with an associated action to be performed on them.\n",
        "Example of contents are video, pages, posts etc. There can be two actions associated with a content id:\n",
        "increasePopularity → increases the popularity of the content by 1. The popularity increases when someone comments on the content or likes the content\n",
        "decreasePopularity → decreases the popularity of the content by 1. The popularity decreases when a spam bot's/users comments are deleted from the content or its likes are removed from the content\n",
        "content ids are positive integers\n",
        "Implement a class that can return the mostPopular content id at any time while consuming the stream of content ids and its associated action. If there are no contentIds with popularity greater than 0, return -1"
      ],
      "metadata": {
        "id": "tLEGWPSB2x4t"
      }
    },
    {
      "cell_type": "code",
      "execution_count": null,
      "metadata": {
        "id": "KBF1_ZAup0kc"
      },
      "outputs": [],
      "source": [
        "[1 , 2 ] [ (1 , 1 )  , ( 2 , -1) ]"
      ]
    },
    {
      "cell_type": "markdown",
      "source": [
        "# only with dict\n"
      ],
      "metadata": {
        "id": "Mlsci95is5O7"
      }
    },
    {
      "cell_type": "markdown",
      "source": [
        "## S Interview"
      ],
      "metadata": {
        "id": "__p1gGEqGhvB"
      }
    },
    {
      "cell_type": "code",
      "source": [
        "from collections import defaultdict\n",
        "class Content:\n",
        "  def __init__(self):\n",
        "        self.ContentID = defaultdict(int)  # Instance attribute\n",
        "\n",
        " # ContentID = defaultdict(int)  # keys : IDs , value: popularity # 0\n",
        "  def evaluatePopularity(self , id , amount ):\n",
        "    if self.ContentID[id] == 0 and amount == -1:\n",
        "      pass\n",
        "\n",
        "    else:\n",
        "        self.ContentID[id] += amount\n",
        "\n",
        "  #  max = (id , value )\n",
        "\n",
        "  # def decreasePopularity():\n",
        "\n",
        "  def mostPopular(self):\n",
        "    #{(1, 5) , (2 , 4) , (3, 8)} # o(n)\n",
        "    max_key = max(self.ContentID, key=lambda k: self.ContentID[k])\n",
        "    print( self.ContentID )\n",
        "    return max_key\n",
        "    # return max(self.ContentID.items(), key=lambda k: k[1])\n",
        "\n",
        "\n",
        "\n",
        "\n",
        "#Sortedlist\n",
        "\n",
        "#max = (id , value )\n",
        "\n",
        "Cont = Content()\n",
        "Cont.evaluatePopularity ('a' , 1)\n",
        "Cont.evaluatePopularity (\"a\" , 1)\n",
        "Cont.evaluatePopularity (\"b\" , 1)\n",
        "Cont.evaluatePopularity (\"a\" , 1)\n",
        "Cont.evaluatePopularity (\"c\" , 1)\n",
        "\n",
        "Cont.evaluatePopularity (\"a\" , -1)\n",
        "Cont.mostPopular()\n",
        "\n"
      ],
      "metadata": {
        "colab": {
          "base_uri": "https://localhost:8080/",
          "height": 53
        },
        "id": "UTo0EN0E24qE",
        "outputId": "3dbb5eaf-2fca-4dfb-dfd1-d7ff0c9f21f9"
      },
      "execution_count": null,
      "outputs": [
        {
          "output_type": "stream",
          "name": "stdout",
          "text": [
            "defaultdict(<class 'int'>, {'a': 2, 'b': 1, 'c': 1})\n"
          ]
        },
        {
          "output_type": "execute_result",
          "data": {
            "text/plain": [
              "'a'"
            ],
            "application/vnd.google.colaboratory.intrinsic+json": {
              "type": "string"
            }
          },
          "metadata": {},
          "execution_count": 15
        }
      ]
    },
    {
      "cell_type": "code",
      "source": [
        "from collections import defaultdict\n",
        "\n",
        "class Content:\n",
        "    def __init__(self):\n",
        "        # Dictionary to track content popularity\n",
        "        self.ContentID = defaultdict(int)\n",
        "\n",
        "    def evaluatePopularity(self, content_id, amount):\n",
        "        # Update the popularity of the content\n",
        "        # Ensure popularity does not go below zero\n",
        "        if self.ContentID[content_id] + amount >= 0:\n",
        "            self.ContentID[content_id] += amount\n",
        "        else:\n",
        "            self.ContentID[content_id] = 0\n",
        "\n",
        "    def mostPopular(self):\n",
        "        # Check if there is any content with positive popularity\n",
        "        if not self.ContentID or all(value <= 0 for value in self.ContentID.values()):\n",
        "            return -1\n",
        "\n",
        "        # Find the content with the highest popularity\n",
        "        max_key = max(self.ContentID, key=lambda k: self.ContentID[k])\n",
        "        print(f\"Content Popularity: {dict(self.ContentID)}\")\n",
        "        return max_key\n",
        "\n",
        "\n",
        "# Example Usage\n",
        "Cont = Content()\n",
        "Cont.evaluatePopularity('a', 1)\n",
        "Cont.evaluatePopularity(\"a\", 1)\n",
        "Cont.evaluatePopularity(\"b\", 1)\n",
        "Cont.evaluatePopularity(\"a\", 1)\n",
        "Cont.evaluatePopularity(\"c\", 1)\n",
        "\n",
        "Cont.evaluatePopularity(\"a\", -1)\n",
        "print(\"Most Popular Content:\", Cont.mostPopular())\n",
        "\n",
        "# Additional Test Case\n",
        "Cont.evaluatePopularity(\"b\", -1)\n",
        "Cont.evaluatePopularity(\"c\", -1)\n",
        "print(\"Most Popular Content after updates:\", Cont.mostPopular())\n"
      ],
      "metadata": {
        "colab": {
          "base_uri": "https://localhost:8080/"
        },
        "id": "84qkg6iMsKPI",
        "outputId": "8c5d0164-c3a4-47b1-da40-4808ad507a9d"
      },
      "execution_count": null,
      "outputs": [
        {
          "output_type": "stream",
          "name": "stdout",
          "text": [
            "Content Popularity: {'a': 2, 'b': 1, 'c': 1}\n",
            "Most Popular Content: a\n",
            "Content Popularity: {'a': 2, 'b': 0, 'c': 0}\n",
            "Most Popular Content after updates: a\n"
          ]
        }
      ]
    },
    {
      "cell_type": "markdown",
      "source": [
        "## in case of tie"
      ],
      "metadata": {
        "id": "kxSERfXyGT0Z"
      }
    },
    {
      "cell_type": "code",
      "source": [
        "from collections import defaultdict\n",
        "\n",
        "class Content:\n",
        "    def __init__(self):\n",
        "        # Dictionary to track content popularity\n",
        "        self.ContentID = defaultdict(int)\n",
        "\n",
        "    def evaluatePopularity(self, content_id, amount):\n",
        "        # Update the popularity of the content\n",
        "        # Ensure popularity does not go below zero\n",
        "        if self.ContentID[content_id] + amount >= 0:\n",
        "            self.ContentID[content_id] += amount\n",
        "        else:\n",
        "            self.ContentID[content_id] = 0\n",
        "\n",
        "    def mostPopular(self):\n",
        "        # Check if there is any content with positive popularity\n",
        "        if not self.ContentID or all(value <= 0 for value in self.ContentID.values()):\n",
        "            return -1\n",
        "\n",
        "        # Find the maximum popularity value\n",
        "        max_popularity = max(self.ContentID.values())\n",
        "\n",
        "        # Find all IDs with the maximum popularity\n",
        "        tied_ids = [key for key, value in self.ContentID.items() if value == max_popularity]\n",
        "\n",
        "        # Return the lexicographically smallest ID in case of a tie\n",
        "        result = min(tied_ids)\n",
        "        print(f\"Content Popularity: {dict(self.ContentID)}\")\n",
        "        return result\n",
        "\n",
        "\n",
        "# Example Usage\n",
        "Cont = Content()\n",
        "Cont.evaluatePopularity('a', 1)\n",
        "Cont.evaluatePopularity(\"a\", 1)\n",
        "Cont.evaluatePopularity(\"b\", 2)\n",
        "Cont.evaluatePopularity(\"c\", 2)\n",
        "Cont.evaluatePopularity(\"d\", 1)\n",
        "\n",
        "print(\"Most Popular Content:\", Cont.mostPopular())\n",
        "\n",
        "# Additional Test Case with tie-breaking\n",
        "Cont.evaluatePopularity(\"b\", -1)\n",
        "Cont.evaluatePopularity(\"c\", -1)\n",
        "print(\"Most Popular Content after updates:\", Cont.mostPopular())\n"
      ],
      "metadata": {
        "colab": {
          "base_uri": "https://localhost:8080/"
        },
        "id": "3HA3rcb_sgdR",
        "outputId": "5304af2f-d82d-4e11-e2be-a6954b779d0d"
      },
      "execution_count": null,
      "outputs": [
        {
          "output_type": "stream",
          "name": "stdout",
          "text": [
            "Content Popularity: {'a': 2, 'b': 2, 'c': 2, 'd': 1}\n",
            "Most Popular Content: a\n",
            "Content Popularity: {'a': 2, 'b': 1, 'c': 1, 'd': 1}\n",
            "Most Popular Content after updates: a\n"
          ]
        }
      ]
    },
    {
      "cell_type": "markdown",
      "source": [
        "## return all ties"
      ],
      "metadata": {
        "id": "SEctcCV0Hdfv"
      }
    },
    {
      "cell_type": "code",
      "source": [
        "from collections import defaultdict\n",
        "\n",
        "class Content:\n",
        "    def __init__(self):\n",
        "        # Dictionary to track content popularity\n",
        "        self.ContentID = defaultdict(int)\n",
        "\n",
        "    def evaluatePopularity(self, content_id, amount):\n",
        "        # Update the popularity of the content\n",
        "        # Ensure popularity does not go below zero\n",
        "        if self.ContentID[content_id] + amount >= 0:\n",
        "            self.ContentID[content_id] += amount\n",
        "        else:\n",
        "            self.ContentID[content_id] = 0\n",
        "\n",
        "    def mostPopular(self):\n",
        "        # Check if there is any content with positive popularity\n",
        "        if not self.ContentID or all(value <= 0 for value in self.ContentID.values()):\n",
        "            return -1\n",
        "\n",
        "        # Find the maximum popularity value\n",
        "        max_popularity = max(self.ContentID.values())\n",
        "\n",
        "        # Find all IDs with the maximum popularity\n",
        "        tied_ids = [key for key, value in self.ContentID.items() if value == max_popularity]\n",
        "\n",
        "        print(f\"Content Popularity: {dict(self.ContentID)}\")\n",
        "        print(f\"Tied Most Popular Content IDs: {tied_ids}\")\n",
        "        return tied_ids\n",
        "\n",
        "\n",
        "# Example Usage\n",
        "Cont = Content()\n",
        "Cont.evaluatePopularity('a', 1)\n",
        "Cont.evaluatePopularity(\"a\", 1)\n",
        "Cont.evaluatePopularity(\"b\", 2)\n",
        "Cont.evaluatePopularity(\"c\", 2)\n",
        "Cont.evaluatePopularity(\"d\", 1)\n",
        "\n",
        "# Printing all tied most popular content IDs\n",
        "print(\"Most Popular Content:\", Cont.mostPopular())\n",
        "\n",
        "# Additional Test Case with tie-breaking\n",
        "Cont.evaluatePopularity(\"b\", -1)\n",
        "Cont.evaluatePopularity(\"c\", -1)\n",
        "print(\"Most Popular Content after updates:\", Cont.mostPopular())\n"
      ],
      "metadata": {
        "id": "iMJKHkugstyn"
      },
      "execution_count": null,
      "outputs": []
    },
    {
      "cell_type": "markdown",
      "source": [
        "# Heap"
      ],
      "metadata": {
        "id": "wo23ashBsvFA"
      }
    },
    {
      "cell_type": "code",
      "source": [
        "from collections import defaultdict\n",
        "import heapq\n",
        "\n",
        "class ContentPopularity:\n",
        "    def __init__(self):\n",
        "        # Dictionary to store the popularity of each content ID\n",
        "        self.popularity = defaultdict(int)\n",
        "        # Max-heap to efficiently fetch the most popular content\n",
        "        self.max_heap = []\n",
        "        # Set to track content IDs with zero or negative popularity\n",
        "        self.invalid_ids = set()\n",
        "\n",
        "    def process_action(self, content_id: int, action: str):\n",
        "        \"\"\"\n",
        "        Processes an action on the content ID and updates its popularity.\n",
        "        \"\"\"\n",
        "        if action == \"increasePopularity\":\n",
        "            self.popularity[content_id] += 1\n",
        "        elif action == \"decreasePopularity\":\n",
        "            self.popularity[content_id] -= 1\n",
        "        else:\n",
        "            raise ValueError(\"Invalid action\")\n",
        "\n",
        "        # Add the updated content ID to the heap\n",
        "        heapq.heappush(self.max_heap, (-self.popularity[content_id], content_id))\n",
        "\n",
        "        # Track invalid IDs if the popularity is <= 0\n",
        "        if self.popularity[content_id] <= 0:\n",
        "            self.invalid_ids.add(content_id)\n",
        "        elif content_id in self.invalid_ids:\n",
        "            self.invalid_ids.remove(content_id)\n",
        "\n",
        "    def get_most_popular(self) -> int:\n",
        "        \"\"\"\n",
        "        Returns the most popular content ID with popularity > 0.\n",
        "        If no such content exists, returns -1.\n",
        "        \"\"\"\n",
        "        while self.max_heap:\n",
        "            # Peek at the current max element in the heap\n",
        "            current_popularity, content_id = self.max_heap[0]\n",
        "            current_popularity = -current_popularity\n",
        "\n",
        "            # If the content ID's popularity matches the heap and is valid, return it\n",
        "            if self.popularity[content_id] == current_popularity and content_id not in self.invalid_ids:\n",
        "                return content_id\n",
        "\n",
        "            # Otherwise, remove invalid/outdated heap entries\n",
        "            heapq.heappop(self.max_heap)\n",
        "\n",
        "        return -1\n",
        "\n",
        "# Example Usage\n",
        "if __name__ == \"__main__\":\n",
        "    cp = ContentPopularity()\n",
        "    cp.process_action(1, \"increasePopularity\")\n",
        "    cp.process_action(2, \"increasePopularity\")\n",
        "    cp.process_action(1, \"increasePopularity\")\n",
        "    cp.process_action(2, \"decreasePopularity\")\n",
        "    cp.process_action(3, \"decreasePopularity\")\n",
        "    print(cp.get_most_popular())  # Output: 1\n",
        "    cp.process_action(1, \"decreasePopularity\")\n",
        "    cp.process_action(1, \"decreasePopularity\")\n",
        "    print(cp.get_most_popular())  # Output: -1\n"
      ],
      "metadata": {
        "id": "xU7-ojPL4Wzc",
        "outputId": "729553aa-0529-46b3-efa3-f45e55d65760",
        "colab": {
          "base_uri": "https://localhost:8080/"
        }
      },
      "execution_count": null,
      "outputs": [
        {
          "output_type": "stream",
          "name": "stdout",
          "text": [
            "1\n",
            "-1\n"
          ]
        }
      ]
    },
    {
      "cell_type": "markdown",
      "source": [
        "# Invert Binary Tree"
      ],
      "metadata": {
        "id": "OhonnbJCM9j2"
      }
    },
    {
      "cell_type": "markdown",
      "source": [
        "## DFS recursive"
      ],
      "metadata": {
        "id": "0GcE53d8Ntiq"
      }
    },
    {
      "cell_type": "code",
      "source": [
        "from typing import Optional\n",
        "\n",
        "# Definition for a binary tree node.\n",
        "class TreeNode:\n",
        "    def __init__(self, val=0, left=None, right=None):\n",
        "        self.val = val\n",
        "        self.left = left\n",
        "        self.right = right\n",
        "\n",
        "class Solution:\n",
        "    def invertTree(self, root: [TreeNode]) -> [TreeNode]:\n",
        "        if not root:\n",
        "            return None\n",
        "\n",
        "        temp = root.left\n",
        "        root.left = root.right\n",
        "        root.right = temp\n",
        "\n",
        "        self.invertTree(root.left)\n",
        "        self.invertTree(root.right)\n",
        "        return root\n",
        "\n",
        "def print_tree(root):\n",
        "    \"\"\"Helper function to print the tree level by level.\"\"\"\n",
        "    if not root:\n",
        "        return []\n",
        "    result, queue = [], [root]\n",
        "    while queue:\n",
        "        current = queue.pop(0)\n",
        "        if current:\n",
        "            result.append(current.val)\n",
        "            queue.append(current.left)\n",
        "            queue.append(current.right)\n",
        "        else:\n",
        "            result.append(None)\n",
        "    return result\n",
        "\n",
        "# Test case\n",
        "def test_invert_tree():\n",
        "    # Create a binary tree\n",
        "    root = TreeNode(4)\n",
        "    root.left = TreeNode(2)\n",
        "    root.right = TreeNode(7)\n",
        "    root.left.left = TreeNode(1)\n",
        "    root.left.right = TreeNode(3)\n",
        "    root.right.left = TreeNode(6)\n",
        "    root.right.right = TreeNode(9)\n",
        "\n",
        "    print(\"Original tree:\", print_tree(root))\n",
        "\n",
        "    # Create a solution instance and invert the tree\n",
        "    solution = Solution()\n",
        "    inverted_root = solution.invertTree(root)\n",
        "\n",
        "    print(\"Inverted tree:\", print_tree(inverted_root))\n",
        "\n",
        "# Run the test\n",
        "test_invert_tree()\n",
        "\n"
      ],
      "metadata": {
        "colab": {
          "base_uri": "https://localhost:8080/"
        },
        "id": "G2y4_pEWNARC",
        "outputId": "3678ccea-b1e0-4a08-c17e-e24de4adc5fe"
      },
      "execution_count": null,
      "outputs": [
        {
          "output_type": "stream",
          "name": "stdout",
          "text": [
            "Original tree: [4, 2, 7, 1, 3, 6, 9, None, None, None, None, None, None, None, None]\n",
            "Inverted tree: [4, 7, 2, 9, 6, 3, 1, None, None, None, None, None, None, None, None]\n"
          ]
        }
      ]
    },
    {
      "cell_type": "markdown",
      "source": [
        "## DFS Stack"
      ],
      "metadata": {
        "id": "1JFDMvf6NwqP"
      }
    },
    {
      "cell_type": "code",
      "source": [
        "from typing import Optional\n",
        "\n",
        "# Definition for a binary tree node.\n",
        "# class TreeNode:\n",
        "#     def __init__(self, val=0, left=None, right=None):\n",
        "#         self.val = val\n",
        "#         self.left = left\n",
        "#         self.right = right\n",
        "\n",
        "class Solution:\n",
        "    def invertTree(self, root: Optional[TreeNode]) -> Optional[TreeNode]:\n",
        "        if not root:\n",
        "            return None\n",
        "        stack = [root]\n",
        "        while stack:\n",
        "            node = stack.pop()\n",
        "            node.left, node.right = node.right, node.left\n",
        "            if node.left:\n",
        "                stack.append(node.left)\n",
        "            if node.right:\n",
        "                stack.append(node.right)\n",
        "        return root"
      ],
      "metadata": {
        "id": "ytbCzv7tNi7H"
      },
      "execution_count": null,
      "outputs": []
    },
    {
      "cell_type": "markdown",
      "source": [
        "## BFS"
      ],
      "metadata": {
        "id": "JgsVXopfN0Mz"
      }
    },
    {
      "cell_type": "code",
      "source": [
        "# Definition for a binary tree node.\n",
        "# class TreeNode:\n",
        "#     def __init__(self, val=0, left=None, right=None):\n",
        "#         self.val = val\n",
        "#         self.left = left\n",
        "#         self.right = right\n",
        "\n",
        "from typing import Optional\n",
        "\n",
        "class Solution:\n",
        "    def invertTree(self, root: Optional[TreeNode]) -> Optional[TreeNode]:\n",
        "        if not root:\n",
        "            return None\n",
        "        queue = deque([root])  # double - ended - Queue\n",
        "        while queue:\n",
        "            node = queue.popleft()\n",
        "            node.left, node.right = node.right, node.left\n",
        "            if node.left:\n",
        "                queue.append(node.left)\n",
        "            if node.right:\n",
        "                queue.append(node.right)\n",
        "        return root"
      ],
      "metadata": {
        "id": "hS8LPGB2N2mn"
      },
      "execution_count": null,
      "outputs": []
    },
    {
      "cell_type": "markdown",
      "source": [
        "# max depth"
      ],
      "metadata": {
        "id": "dLnKxxu6xQQf"
      }
    },
    {
      "cell_type": "code",
      "source": [
        "class Solution:\n",
        "    def maxDepth(self, root: Optional[TreeNode]) -> int:\n",
        "        stack = [[root, 1]]\n",
        "        res = 0\n",
        "\n",
        "        while stack:\n",
        "            node, depth = stack.pop()\n",
        "\n",
        "            if node:\n",
        "                res = max(res, depth)\n",
        "                stack.append([node.left, depth + 1])\n",
        "                stack.append([node.right, depth + 1])\n",
        "        return res"
      ],
      "metadata": {
        "id": "uF_aYfSbxO98"
      },
      "execution_count": null,
      "outputs": []
    },
    {
      "cell_type": "code",
      "source": [
        "class Solution:\n",
        "    def maxDepth(self, root: Optional[TreeNode]) -> int:\n",
        "        q = deque()\n",
        "        if root:\n",
        "            q.append(root)\n",
        "\n",
        "        level = 0\n",
        "        while q:\n",
        "            for i in range(len(q)):\n",
        "                node = q.popleft()\n",
        "                if node.left:\n",
        "                    q.append(node.left)\n",
        "                if node.right:\n",
        "                    q.append(node.right)\n",
        "            level += 1\n",
        "        return level"
      ],
      "metadata": {
        "colab": {
          "base_uri": "https://localhost:8080/",
          "height": 346
        },
        "id": "8Vv1z2xSxdfo",
        "outputId": "d72af848-6a47-4e79-82a6-624703c5d553"
      },
      "execution_count": 1,
      "outputs": [
        {
          "output_type": "error",
          "ename": "NameError",
          "evalue": "name 'Optional' is not defined",
          "traceback": [
            "\u001b[0;31m---------------------------------------------------------------------------\u001b[0m",
            "\u001b[0;31mNameError\u001b[0m                                 Traceback (most recent call last)",
            "\u001b[0;32m<ipython-input-1-4c44e5e4515e>\u001b[0m in \u001b[0;36m<cell line: 1>\u001b[0;34m()\u001b[0m\n\u001b[0;32m----> 1\u001b[0;31m \u001b[0;32mclass\u001b[0m \u001b[0mSolution\u001b[0m\u001b[0;34m:\u001b[0m\u001b[0;34m\u001b[0m\u001b[0;34m\u001b[0m\u001b[0m\n\u001b[0m\u001b[1;32m      2\u001b[0m     \u001b[0;32mdef\u001b[0m \u001b[0mmaxDepth\u001b[0m\u001b[0;34m(\u001b[0m\u001b[0mself\u001b[0m\u001b[0;34m,\u001b[0m \u001b[0mroot\u001b[0m\u001b[0;34m:\u001b[0m \u001b[0mOptional\u001b[0m\u001b[0;34m[\u001b[0m\u001b[0mTreeNode\u001b[0m\u001b[0;34m]\u001b[0m\u001b[0;34m)\u001b[0m \u001b[0;34m->\u001b[0m \u001b[0mint\u001b[0m\u001b[0;34m:\u001b[0m\u001b[0;34m\u001b[0m\u001b[0;34m\u001b[0m\u001b[0m\n\u001b[1;32m      3\u001b[0m         \u001b[0mq\u001b[0m \u001b[0;34m=\u001b[0m \u001b[0mdeque\u001b[0m\u001b[0;34m(\u001b[0m\u001b[0;34m)\u001b[0m\u001b[0;34m\u001b[0m\u001b[0;34m\u001b[0m\u001b[0m\n\u001b[1;32m      4\u001b[0m         \u001b[0;32mif\u001b[0m \u001b[0mroot\u001b[0m\u001b[0;34m:\u001b[0m\u001b[0;34m\u001b[0m\u001b[0;34m\u001b[0m\u001b[0m\n\u001b[1;32m      5\u001b[0m             \u001b[0mq\u001b[0m\u001b[0;34m.\u001b[0m\u001b[0mappend\u001b[0m\u001b[0;34m(\u001b[0m\u001b[0mroot\u001b[0m\u001b[0;34m)\u001b[0m\u001b[0;34m\u001b[0m\u001b[0;34m\u001b[0m\u001b[0m\n",
            "\u001b[0;32m<ipython-input-1-4c44e5e4515e>\u001b[0m in \u001b[0;36mSolution\u001b[0;34m()\u001b[0m\n\u001b[1;32m      1\u001b[0m \u001b[0;32mclass\u001b[0m \u001b[0mSolution\u001b[0m\u001b[0;34m:\u001b[0m\u001b[0;34m\u001b[0m\u001b[0;34m\u001b[0m\u001b[0m\n\u001b[0;32m----> 2\u001b[0;31m     \u001b[0;32mdef\u001b[0m \u001b[0mmaxDepth\u001b[0m\u001b[0;34m(\u001b[0m\u001b[0mself\u001b[0m\u001b[0;34m,\u001b[0m \u001b[0mroot\u001b[0m\u001b[0;34m:\u001b[0m \u001b[0mOptional\u001b[0m\u001b[0;34m[\u001b[0m\u001b[0mTreeNode\u001b[0m\u001b[0;34m]\u001b[0m\u001b[0;34m)\u001b[0m \u001b[0;34m->\u001b[0m \u001b[0mint\u001b[0m\u001b[0;34m:\u001b[0m\u001b[0;34m\u001b[0m\u001b[0;34m\u001b[0m\u001b[0m\n\u001b[0m\u001b[1;32m      3\u001b[0m         \u001b[0mq\u001b[0m \u001b[0;34m=\u001b[0m \u001b[0mdeque\u001b[0m\u001b[0;34m(\u001b[0m\u001b[0;34m)\u001b[0m\u001b[0;34m\u001b[0m\u001b[0;34m\u001b[0m\u001b[0m\n\u001b[1;32m      4\u001b[0m         \u001b[0;32mif\u001b[0m \u001b[0mroot\u001b[0m\u001b[0;34m:\u001b[0m\u001b[0;34m\u001b[0m\u001b[0;34m\u001b[0m\u001b[0m\n\u001b[1;32m      5\u001b[0m             \u001b[0mq\u001b[0m\u001b[0;34m.\u001b[0m\u001b[0mappend\u001b[0m\u001b[0;34m(\u001b[0m\u001b[0mroot\u001b[0m\u001b[0;34m)\u001b[0m\u001b[0;34m\u001b[0m\u001b[0;34m\u001b[0m\u001b[0m\n",
            "\u001b[0;31mNameError\u001b[0m: name 'Optional' is not defined"
          ]
        }
      ]
    }
  ]
}