{
  "nbformat": 4,
  "nbformat_minor": 0,
  "metadata": {
    "colab": {
      "provenance": [],
      "authorship_tag": "ABX9TyNhcbVpt/2Z3J9D00Pn4Owm",
      "include_colab_link": true
    },
    "kernelspec": {
      "name": "python3",
      "display_name": "Python 3"
    },
    "language_info": {
      "name": "python"
    }
  },
  "cells": [
    {
      "cell_type": "markdown",
      "metadata": {
        "id": "view-in-github",
        "colab_type": "text"
      },
      "source": [
        "<a href=\"https://colab.research.google.com/github/Amanollahi/Data-structure/blob/main/Atlassian_Interview.ipynb\" target=\"_parent\"><img src=\"https://colab.research.google.com/assets/colab-badge.svg\" alt=\"Open In Colab\"/></a>"
      ]
    },
    {
      "cell_type": "markdown",
      "source": [
        "Imagine you are given a stream of content ids along with an associated action to be performed on them.\n",
        "Example of contents are video, pages, posts etc. There can be two actions associated with a content id:\n",
        "increasePopularity → increases the popularity of the content by 1. The popularity increases when someone comments on the content or likes the content\n",
        "decreasePopularity → decreases the popularity of the content by 1. The popularity decreases when a spam bot's/users comments are deleted from the content or its likes are removed from the content\n",
        "content ids are positive integers\n",
        "Implement a class that can return the mostPopular content id at any time while consuming the stream of content ids and its associated action. If there are no contentIds with popularity greater than 0, return -1"
      ],
      "metadata": {
        "id": "tLEGWPSB2x4t"
      }
    },
    {
      "cell_type": "code",
      "execution_count": null,
      "metadata": {
        "id": "KBF1_ZAup0kc"
      },
      "outputs": [],
      "source": [
        "[1 , 2 ] [ (1 , 1 )  , ( 2 , -1) ]"
      ]
    },
    {
      "cell_type": "markdown",
      "source": [
        "# only with dict\n"
      ],
      "metadata": {
        "id": "Mlsci95is5O7"
      }
    },
    {
      "cell_type": "markdown",
      "source": [
        "## Saba Interview"
      ],
      "metadata": {
        "id": "__p1gGEqGhvB"
      }
    },
    {
      "cell_type": "code",
      "source": [
        "from collections import defaultdict\n",
        "class Content:\n",
        "  def __init__(self):\n",
        "        self.ContentID = defaultdict(int)  # Instance attribute\n",
        "\n",
        " # ContentID = defaultdict(int)  # keys : IDs , value: popularity # 0\n",
        "  def evaluatePopularity(self , id , amount ):\n",
        "    if self.ContentID[id] == 0 and amount == -1:\n",
        "      pass\n",
        "\n",
        "    else:\n",
        "        self.ContentID[id] += amount\n",
        "\n",
        "  #  max = (id , value )\n",
        "\n",
        "  # def decreasePopularity():\n",
        "\n",
        "  def mostPopular(self):\n",
        "    #{(1, 5) , (2 , 4) , (3, 8)} # o(n)\n",
        "    max_key = max(self.ContentID, key=lambda k: self.ContentID[k])\n",
        "    print( self.ContentID )\n",
        "    return max_key\n",
        "    # return max(self.ContentID.items(), key=lambda k: k[1])\n",
        "\n",
        "\n",
        "\n",
        "\n",
        "#Sortedlist\n",
        "\n",
        "#max = (id , value )\n",
        "\n",
        "Cont = Content()\n",
        "Cont.evaluatePopularity ('a' , 1)\n",
        "Cont.evaluatePopularity (\"a\" , 1)\n",
        "Cont.evaluatePopularity (\"b\" , 1)\n",
        "Cont.evaluatePopularity (\"a\" , 1)\n",
        "Cont.evaluatePopularity (\"c\" , 1)\n",
        "\n",
        "Cont.evaluatePopularity (\"a\" , -1)\n",
        "Cont.mostPopular()\n",
        "\n"
      ],
      "metadata": {
        "colab": {
          "base_uri": "https://localhost:8080/",
          "height": 53
        },
        "id": "UTo0EN0E24qE",
        "outputId": "3dbb5eaf-2fca-4dfb-dfd1-d7ff0c9f21f9"
      },
      "execution_count": null,
      "outputs": [
        {
          "output_type": "stream",
          "name": "stdout",
          "text": [
            "defaultdict(<class 'int'>, {'a': 2, 'b': 1, 'c': 1})\n"
          ]
        },
        {
          "output_type": "execute_result",
          "data": {
            "text/plain": [
              "'a'"
            ],
            "application/vnd.google.colaboratory.intrinsic+json": {
              "type": "string"
            }
          },
          "metadata": {},
          "execution_count": 15
        }
      ]
    },
    {
      "cell_type": "code",
      "source": [
        "from collections import defaultdict\n",
        "\n",
        "class Content:\n",
        "    def __init__(self):\n",
        "        # Dictionary to track content popularity\n",
        "        self.ContentID = defaultdict(int)\n",
        "\n",
        "    def evaluatePopularity(self, content_id, amount):\n",
        "        # Update the popularity of the content\n",
        "        # Ensure popularity does not go below zero\n",
        "        if self.ContentID[content_id] + amount >= 0:\n",
        "            self.ContentID[content_id] += amount\n",
        "        else:\n",
        "            self.ContentID[content_id] = 0\n",
        "\n",
        "    def mostPopular(self):\n",
        "        # Check if there is any content with positive popularity\n",
        "        if not self.ContentID or all(value <= 0 for value in self.ContentID.values()):\n",
        "            return -1\n",
        "\n",
        "        # Find the content with the highest popularity\n",
        "        max_key = max(self.ContentID, key=lambda k: self.ContentID[k])\n",
        "        print(f\"Content Popularity: {dict(self.ContentID)}\")\n",
        "        return max_key\n",
        "\n",
        "\n",
        "# Example Usage\n",
        "Cont = Content()\n",
        "Cont.evaluatePopularity('a', 1)\n",
        "Cont.evaluatePopularity(\"a\", 1)\n",
        "Cont.evaluatePopularity(\"b\", 1)\n",
        "Cont.evaluatePopularity(\"a\", 1)\n",
        "Cont.evaluatePopularity(\"c\", 1)\n",
        "\n",
        "Cont.evaluatePopularity(\"a\", -1)\n",
        "print(\"Most Popular Content:\", Cont.mostPopular())\n",
        "\n",
        "# Additional Test Case\n",
        "Cont.evaluatePopularity(\"b\", -1)\n",
        "Cont.evaluatePopularity(\"c\", -1)\n",
        "print(\"Most Popular Content after updates:\", Cont.mostPopular())\n"
      ],
      "metadata": {
        "colab": {
          "base_uri": "https://localhost:8080/"
        },
        "id": "84qkg6iMsKPI",
        "outputId": "8c5d0164-c3a4-47b1-da40-4808ad507a9d"
      },
      "execution_count": 1,
      "outputs": [
        {
          "output_type": "stream",
          "name": "stdout",
          "text": [
            "Content Popularity: {'a': 2, 'b': 1, 'c': 1}\n",
            "Most Popular Content: a\n",
            "Content Popularity: {'a': 2, 'b': 0, 'c': 0}\n",
            "Most Popular Content after updates: a\n"
          ]
        }
      ]
    },
    {
      "cell_type": "markdown",
      "source": [
        "## in case of tie"
      ],
      "metadata": {
        "id": "kxSERfXyGT0Z"
      }
    },
    {
      "cell_type": "code",
      "source": [
        "from collections import defaultdict\n",
        "\n",
        "class Content:\n",
        "    def __init__(self):\n",
        "        # Dictionary to track content popularity\n",
        "        self.ContentID = defaultdict(int)\n",
        "\n",
        "    def evaluatePopularity(self, content_id, amount):\n",
        "        # Update the popularity of the content\n",
        "        # Ensure popularity does not go below zero\n",
        "        if self.ContentID[content_id] + amount >= 0:\n",
        "            self.ContentID[content_id] += amount\n",
        "        else:\n",
        "            self.ContentID[content_id] = 0\n",
        "\n",
        "    def mostPopular(self):\n",
        "        # Check if there is any content with positive popularity\n",
        "        if not self.ContentID or all(value <= 0 for value in self.ContentID.values()):\n",
        "            return -1\n",
        "\n",
        "        # Find the maximum popularity value\n",
        "        max_popularity = max(self.ContentID.values())\n",
        "\n",
        "        # Find all IDs with the maximum popularity\n",
        "        tied_ids = [key for key, value in self.ContentID.items() if value == max_popularity]\n",
        "\n",
        "        # Return the lexicographically smallest ID in case of a tie\n",
        "        result = min(tied_ids)\n",
        "        print(f\"Content Popularity: {dict(self.ContentID)}\")\n",
        "        return result\n",
        "\n",
        "\n",
        "# Example Usage\n",
        "Cont = Content()\n",
        "Cont.evaluatePopularity('a', 1)\n",
        "Cont.evaluatePopularity(\"a\", 1)\n",
        "Cont.evaluatePopularity(\"b\", 2)\n",
        "Cont.evaluatePopularity(\"c\", 2)\n",
        "Cont.evaluatePopularity(\"d\", 1)\n",
        "\n",
        "print(\"Most Popular Content:\", Cont.mostPopular())\n",
        "\n",
        "# Additional Test Case with tie-breaking\n",
        "Cont.evaluatePopularity(\"b\", -1)\n",
        "Cont.evaluatePopularity(\"c\", -1)\n",
        "print(\"Most Popular Content after updates:\", Cont.mostPopular())\n"
      ],
      "metadata": {
        "colab": {
          "base_uri": "https://localhost:8080/"
        },
        "id": "3HA3rcb_sgdR",
        "outputId": "5304af2f-d82d-4e11-e2be-a6954b779d0d"
      },
      "execution_count": 2,
      "outputs": [
        {
          "output_type": "stream",
          "name": "stdout",
          "text": [
            "Content Popularity: {'a': 2, 'b': 2, 'c': 2, 'd': 1}\n",
            "Most Popular Content: a\n",
            "Content Popularity: {'a': 2, 'b': 1, 'c': 1, 'd': 1}\n",
            "Most Popular Content after updates: a\n"
          ]
        }
      ]
    },
    {
      "cell_type": "code",
      "source": [
        "from collections import defaultdict\n",
        "\n",
        "class Content:\n",
        "    def __init__(self):\n",
        "        # Dictionary to track content popularity\n",
        "        self.ContentID = defaultdict(int)\n",
        "\n",
        "    def evaluatePopularity(self, content_id, amount):\n",
        "        # Update the popularity of the content\n",
        "        # Ensure popularity does not go below zero\n",
        "        if self.ContentID[content_id] + amount >= 0:\n",
        "            self.ContentID[content_id] += amount\n",
        "        else:\n",
        "            self.ContentID[content_id] = 0\n",
        "\n",
        "    def mostPopular(self):\n",
        "        # Check if there is any content with positive popularity\n",
        "        if not self.ContentID or all(value <= 0 for value in self.ContentID.values()):\n",
        "            return -1\n",
        "\n",
        "        # Find the maximum popularity value\n",
        "        max_popularity = max(self.ContentID.values())\n",
        "\n",
        "        # Find all IDs with the maximum popularity\n",
        "        tied_ids = [key for key, value in self.ContentID.items() if value == max_popularity]\n",
        "\n",
        "        print(f\"Content Popularity: {dict(self.ContentID)}\")\n",
        "        print(f\"Tied Most Popular Content IDs: {tied_ids}\")\n",
        "        return tied_ids\n",
        "\n",
        "\n",
        "# Example Usage\n",
        "Cont = Content()\n",
        "Cont.evaluatePopularity('a', 1)\n",
        "Cont.evaluatePopularity(\"a\", 1)\n",
        "Cont.evaluatePopularity(\"b\", 2)\n",
        "Cont.evaluatePopularity(\"c\", 2)\n",
        "Cont.evaluatePopularity(\"d\", 1)\n",
        "\n",
        "# Printing all tied most popular content IDs\n",
        "print(\"Most Popular Content:\", Cont.mostPopular())\n",
        "\n",
        "# Additional Test Case with tie-breaking\n",
        "Cont.evaluatePopularity(\"b\", -1)\n",
        "Cont.evaluatePopularity(\"c\", -1)\n",
        "print(\"Most Popular Content after updates:\", Cont.mostPopular())\n"
      ],
      "metadata": {
        "id": "iMJKHkugstyn"
      },
      "execution_count": null,
      "outputs": []
    },
    {
      "cell_type": "markdown",
      "source": [
        "# Heap"
      ],
      "metadata": {
        "id": "wo23ashBsvFA"
      }
    },
    {
      "cell_type": "code",
      "source": [
        "from collections import defaultdict\n",
        "import heapq\n",
        "\n",
        "class ContentPopularity:\n",
        "    def __init__(self):\n",
        "        # Dictionary to store the popularity of each content ID\n",
        "        self.popularity = defaultdict(int)\n",
        "        # Max-heap to efficiently fetch the most popular content\n",
        "        self.max_heap = []\n",
        "        # Set to track content IDs with zero or negative popularity\n",
        "        self.invalid_ids = set()\n",
        "\n",
        "    def process_action(self, content_id: int, action: str):\n",
        "        \"\"\"\n",
        "        Processes an action on the content ID and updates its popularity.\n",
        "        \"\"\"\n",
        "        if action == \"increasePopularity\":\n",
        "            self.popularity[content_id] += 1\n",
        "        elif action == \"decreasePopularity\":\n",
        "            self.popularity[content_id] -= 1\n",
        "        else:\n",
        "            raise ValueError(\"Invalid action\")\n",
        "\n",
        "        # Add the updated content ID to the heap\n",
        "        heapq.heappush(self.max_heap, (-self.popularity[content_id], content_id))\n",
        "\n",
        "        # Track invalid IDs if the popularity is <= 0\n",
        "        if self.popularity[content_id] <= 0:\n",
        "            self.invalid_ids.add(content_id)\n",
        "        elif content_id in self.invalid_ids:\n",
        "            self.invalid_ids.remove(content_id)\n",
        "\n",
        "    def get_most_popular(self) -> int:\n",
        "        \"\"\"\n",
        "        Returns the most popular content ID with popularity > 0.\n",
        "        If no such content exists, returns -1.\n",
        "        \"\"\"\n",
        "        while self.max_heap:\n",
        "            # Peek at the current max element in the heap\n",
        "            current_popularity, content_id = self.max_heap[0]\n",
        "            current_popularity = -current_popularity\n",
        "\n",
        "            # If the content ID's popularity matches the heap and is valid, return it\n",
        "            if self.popularity[content_id] == current_popularity and content_id not in self.invalid_ids:\n",
        "                return content_id\n",
        "\n",
        "            # Otherwise, remove invalid/outdated heap entries\n",
        "            heapq.heappop(self.max_heap)\n",
        "\n",
        "        return -1\n",
        "\n",
        "# Example Usage\n",
        "if __name__ == \"__main__\":\n",
        "    cp = ContentPopularity()\n",
        "    cp.process_action(1, \"increasePopularity\")\n",
        "    cp.process_action(2, \"increasePopularity\")\n",
        "    cp.process_action(1, \"increasePopularity\")\n",
        "    cp.process_action(2, \"decreasePopularity\")\n",
        "    cp.process_action(3, \"decreasePopularity\")\n",
        "    print(cp.get_most_popular())  # Output: 1\n",
        "    cp.process_action(1, \"decreasePopularity\")\n",
        "    cp.process_action(1, \"decreasePopularity\")\n",
        "    print(cp.get_most_popular())  # Output: -1\n"
      ],
      "metadata": {
        "id": "xU7-ojPL4Wzc",
        "outputId": "729553aa-0529-46b3-efa3-f45e55d65760",
        "colab": {
          "base_uri": "https://localhost:8080/"
        }
      },
      "execution_count": null,
      "outputs": [
        {
          "output_type": "stream",
          "name": "stdout",
          "text": [
            "1\n",
            "-1\n"
          ]
        }
      ]
    }
  ]
}